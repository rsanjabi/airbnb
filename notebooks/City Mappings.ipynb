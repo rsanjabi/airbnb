{
 "cells": [
  {
   "cell_type": "code",
   "execution_count": 1,
   "metadata": {},
   "outputs": [],
   "source": [
    "import pandas as pd\n",
    "import re"
   ]
  },
  {
   "cell_type": "markdown",
   "metadata": {},
   "source": [
    "## Inside Airbnb Data"
   ]
  },
  {
   "cell_type": "code",
   "execution_count": 2,
   "metadata": {},
   "outputs": [
    {
     "ename": "FileNotFoundError",
     "evalue": "[Errno 2] File ../data/air-bnb-listings.csv does not exist: '../data/air-bnb-listings.csv'",
     "output_type": "error",
     "traceback": [
      "\u001b[0;31m---------------------------------------------------------------------------\u001b[0m",
      "\u001b[0;31mFileNotFoundError\u001b[0m                         Traceback (most recent call last)",
      "\u001b[0;32m<ipython-input-2-c2fe000d7b07>\u001b[0m in \u001b[0;36m<module>\u001b[0;34m\u001b[0m\n\u001b[0;32m----> 1\u001b[0;31m \u001b[0mair_df\u001b[0m \u001b[0;34m=\u001b[0m \u001b[0mpd\u001b[0m\u001b[0;34m.\u001b[0m\u001b[0mread_csv\u001b[0m\u001b[0;34m(\u001b[0m\u001b[0;34m\"../data/air-bnb-listings.csv\"\u001b[0m\u001b[0;34m,\u001b[0m \u001b[0msep\u001b[0m\u001b[0;34m=\u001b[0m\u001b[0;34m';'\u001b[0m\u001b[0;34m)\u001b[0m\u001b[0;34m\u001b[0m\u001b[0;34m\u001b[0m\u001b[0m\n\u001b[0m\u001b[1;32m      2\u001b[0m \u001b[0mair_df\u001b[0m\u001b[0;34m[\u001b[0m\u001b[0;34m'City'\u001b[0m\u001b[0;34m]\u001b[0m \u001b[0;34m=\u001b[0m \u001b[0mair_df\u001b[0m\u001b[0;34m[\u001b[0m\u001b[0;34m'City'\u001b[0m\u001b[0;34m]\u001b[0m\u001b[0;34m.\u001b[0m\u001b[0mstr\u001b[0m\u001b[0;34m.\u001b[0m\u001b[0mreplace\u001b[0m\u001b[0;34m(\u001b[0m\u001b[0;34m'-'\u001b[0m\u001b[0;34m,\u001b[0m \u001b[0;34m' '\u001b[0m\u001b[0;34m)\u001b[0m\u001b[0;34m\u001b[0m\u001b[0;34m\u001b[0m\u001b[0m\n\u001b[1;32m      3\u001b[0m \u001b[0;31m# Convert to uppercase for later matching\u001b[0m\u001b[0;34m\u001b[0m\u001b[0;34m\u001b[0m\u001b[0;34m\u001b[0m\u001b[0m\n\u001b[1;32m      4\u001b[0m \u001b[0mair_df\u001b[0m\u001b[0;34m[\u001b[0m\u001b[0;34m'City'\u001b[0m\u001b[0;34m]\u001b[0m \u001b[0;34m=\u001b[0m \u001b[0mair_df\u001b[0m\u001b[0;34m[\u001b[0m\u001b[0;34m'City'\u001b[0m\u001b[0;34m]\u001b[0m\u001b[0;34m.\u001b[0m\u001b[0mstr\u001b[0m\u001b[0;34m.\u001b[0m\u001b[0mupper\u001b[0m\u001b[0;34m(\u001b[0m\u001b[0;34m)\u001b[0m\u001b[0;34m\u001b[0m\u001b[0;34m\u001b[0m\u001b[0m\n\u001b[1;32m      5\u001b[0m \u001b[0;31m# Strip 'City' from City names (e.g. NEW YORK not NEW YORK CITY)\u001b[0m\u001b[0;34m\u001b[0m\u001b[0;34m\u001b[0m\u001b[0;34m\u001b[0m\u001b[0m\n",
      "\u001b[0;32m~/.pyenv/versions/3.7.3/lib/python3.7/site-packages/pandas/io/parsers.py\u001b[0m in \u001b[0;36mparser_f\u001b[0;34m(filepath_or_buffer, sep, delimiter, header, names, index_col, usecols, squeeze, prefix, mangle_dupe_cols, dtype, engine, converters, true_values, false_values, skipinitialspace, skiprows, skipfooter, nrows, na_values, keep_default_na, na_filter, verbose, skip_blank_lines, parse_dates, infer_datetime_format, keep_date_col, date_parser, dayfirst, cache_dates, iterator, chunksize, compression, thousands, decimal, lineterminator, quotechar, quoting, doublequote, escapechar, comment, encoding, dialect, error_bad_lines, warn_bad_lines, delim_whitespace, low_memory, memory_map, float_precision)\u001b[0m\n\u001b[1;32m    674\u001b[0m         )\n\u001b[1;32m    675\u001b[0m \u001b[0;34m\u001b[0m\u001b[0m\n\u001b[0;32m--> 676\u001b[0;31m         \u001b[0;32mreturn\u001b[0m \u001b[0m_read\u001b[0m\u001b[0;34m(\u001b[0m\u001b[0mfilepath_or_buffer\u001b[0m\u001b[0;34m,\u001b[0m \u001b[0mkwds\u001b[0m\u001b[0;34m)\u001b[0m\u001b[0;34m\u001b[0m\u001b[0;34m\u001b[0m\u001b[0m\n\u001b[0m\u001b[1;32m    677\u001b[0m \u001b[0;34m\u001b[0m\u001b[0m\n\u001b[1;32m    678\u001b[0m     \u001b[0mparser_f\u001b[0m\u001b[0;34m.\u001b[0m\u001b[0m__name__\u001b[0m \u001b[0;34m=\u001b[0m \u001b[0mname\u001b[0m\u001b[0;34m\u001b[0m\u001b[0;34m\u001b[0m\u001b[0m\n",
      "\u001b[0;32m~/.pyenv/versions/3.7.3/lib/python3.7/site-packages/pandas/io/parsers.py\u001b[0m in \u001b[0;36m_read\u001b[0;34m(filepath_or_buffer, kwds)\u001b[0m\n\u001b[1;32m    446\u001b[0m \u001b[0;34m\u001b[0m\u001b[0m\n\u001b[1;32m    447\u001b[0m     \u001b[0;31m# Create the parser.\u001b[0m\u001b[0;34m\u001b[0m\u001b[0;34m\u001b[0m\u001b[0;34m\u001b[0m\u001b[0m\n\u001b[0;32m--> 448\u001b[0;31m     \u001b[0mparser\u001b[0m \u001b[0;34m=\u001b[0m \u001b[0mTextFileReader\u001b[0m\u001b[0;34m(\u001b[0m\u001b[0mfp_or_buf\u001b[0m\u001b[0;34m,\u001b[0m \u001b[0;34m**\u001b[0m\u001b[0mkwds\u001b[0m\u001b[0;34m)\u001b[0m\u001b[0;34m\u001b[0m\u001b[0;34m\u001b[0m\u001b[0m\n\u001b[0m\u001b[1;32m    449\u001b[0m \u001b[0;34m\u001b[0m\u001b[0m\n\u001b[1;32m    450\u001b[0m     \u001b[0;32mif\u001b[0m \u001b[0mchunksize\u001b[0m \u001b[0;32mor\u001b[0m \u001b[0miterator\u001b[0m\u001b[0;34m:\u001b[0m\u001b[0;34m\u001b[0m\u001b[0;34m\u001b[0m\u001b[0m\n",
      "\u001b[0;32m~/.pyenv/versions/3.7.3/lib/python3.7/site-packages/pandas/io/parsers.py\u001b[0m in \u001b[0;36m__init__\u001b[0;34m(self, f, engine, **kwds)\u001b[0m\n\u001b[1;32m    878\u001b[0m             \u001b[0mself\u001b[0m\u001b[0;34m.\u001b[0m\u001b[0moptions\u001b[0m\u001b[0;34m[\u001b[0m\u001b[0;34m\"has_index_names\"\u001b[0m\u001b[0;34m]\u001b[0m \u001b[0;34m=\u001b[0m \u001b[0mkwds\u001b[0m\u001b[0;34m[\u001b[0m\u001b[0;34m\"has_index_names\"\u001b[0m\u001b[0;34m]\u001b[0m\u001b[0;34m\u001b[0m\u001b[0;34m\u001b[0m\u001b[0m\n\u001b[1;32m    879\u001b[0m \u001b[0;34m\u001b[0m\u001b[0m\n\u001b[0;32m--> 880\u001b[0;31m         \u001b[0mself\u001b[0m\u001b[0;34m.\u001b[0m\u001b[0m_make_engine\u001b[0m\u001b[0;34m(\u001b[0m\u001b[0mself\u001b[0m\u001b[0;34m.\u001b[0m\u001b[0mengine\u001b[0m\u001b[0;34m)\u001b[0m\u001b[0;34m\u001b[0m\u001b[0;34m\u001b[0m\u001b[0m\n\u001b[0m\u001b[1;32m    881\u001b[0m \u001b[0;34m\u001b[0m\u001b[0m\n\u001b[1;32m    882\u001b[0m     \u001b[0;32mdef\u001b[0m \u001b[0mclose\u001b[0m\u001b[0;34m(\u001b[0m\u001b[0mself\u001b[0m\u001b[0;34m)\u001b[0m\u001b[0;34m:\u001b[0m\u001b[0;34m\u001b[0m\u001b[0;34m\u001b[0m\u001b[0m\n",
      "\u001b[0;32m~/.pyenv/versions/3.7.3/lib/python3.7/site-packages/pandas/io/parsers.py\u001b[0m in \u001b[0;36m_make_engine\u001b[0;34m(self, engine)\u001b[0m\n\u001b[1;32m   1112\u001b[0m     \u001b[0;32mdef\u001b[0m \u001b[0m_make_engine\u001b[0m\u001b[0;34m(\u001b[0m\u001b[0mself\u001b[0m\u001b[0;34m,\u001b[0m \u001b[0mengine\u001b[0m\u001b[0;34m=\u001b[0m\u001b[0;34m\"c\"\u001b[0m\u001b[0;34m)\u001b[0m\u001b[0;34m:\u001b[0m\u001b[0;34m\u001b[0m\u001b[0;34m\u001b[0m\u001b[0m\n\u001b[1;32m   1113\u001b[0m         \u001b[0;32mif\u001b[0m \u001b[0mengine\u001b[0m \u001b[0;34m==\u001b[0m \u001b[0;34m\"c\"\u001b[0m\u001b[0;34m:\u001b[0m\u001b[0;34m\u001b[0m\u001b[0;34m\u001b[0m\u001b[0m\n\u001b[0;32m-> 1114\u001b[0;31m             \u001b[0mself\u001b[0m\u001b[0;34m.\u001b[0m\u001b[0m_engine\u001b[0m \u001b[0;34m=\u001b[0m \u001b[0mCParserWrapper\u001b[0m\u001b[0;34m(\u001b[0m\u001b[0mself\u001b[0m\u001b[0;34m.\u001b[0m\u001b[0mf\u001b[0m\u001b[0;34m,\u001b[0m \u001b[0;34m**\u001b[0m\u001b[0mself\u001b[0m\u001b[0;34m.\u001b[0m\u001b[0moptions\u001b[0m\u001b[0;34m)\u001b[0m\u001b[0;34m\u001b[0m\u001b[0;34m\u001b[0m\u001b[0m\n\u001b[0m\u001b[1;32m   1115\u001b[0m         \u001b[0;32melse\u001b[0m\u001b[0;34m:\u001b[0m\u001b[0;34m\u001b[0m\u001b[0;34m\u001b[0m\u001b[0m\n\u001b[1;32m   1116\u001b[0m             \u001b[0;32mif\u001b[0m \u001b[0mengine\u001b[0m \u001b[0;34m==\u001b[0m \u001b[0;34m\"python\"\u001b[0m\u001b[0;34m:\u001b[0m\u001b[0;34m\u001b[0m\u001b[0;34m\u001b[0m\u001b[0m\n",
      "\u001b[0;32m~/.pyenv/versions/3.7.3/lib/python3.7/site-packages/pandas/io/parsers.py\u001b[0m in \u001b[0;36m__init__\u001b[0;34m(self, src, **kwds)\u001b[0m\n\u001b[1;32m   1889\u001b[0m         \u001b[0mkwds\u001b[0m\u001b[0;34m[\u001b[0m\u001b[0;34m\"usecols\"\u001b[0m\u001b[0;34m]\u001b[0m \u001b[0;34m=\u001b[0m \u001b[0mself\u001b[0m\u001b[0;34m.\u001b[0m\u001b[0musecols\u001b[0m\u001b[0;34m\u001b[0m\u001b[0;34m\u001b[0m\u001b[0m\n\u001b[1;32m   1890\u001b[0m \u001b[0;34m\u001b[0m\u001b[0m\n\u001b[0;32m-> 1891\u001b[0;31m         \u001b[0mself\u001b[0m\u001b[0;34m.\u001b[0m\u001b[0m_reader\u001b[0m \u001b[0;34m=\u001b[0m \u001b[0mparsers\u001b[0m\u001b[0;34m.\u001b[0m\u001b[0mTextReader\u001b[0m\u001b[0;34m(\u001b[0m\u001b[0msrc\u001b[0m\u001b[0;34m,\u001b[0m \u001b[0;34m**\u001b[0m\u001b[0mkwds\u001b[0m\u001b[0;34m)\u001b[0m\u001b[0;34m\u001b[0m\u001b[0;34m\u001b[0m\u001b[0m\n\u001b[0m\u001b[1;32m   1892\u001b[0m         \u001b[0mself\u001b[0m\u001b[0;34m.\u001b[0m\u001b[0munnamed_cols\u001b[0m \u001b[0;34m=\u001b[0m \u001b[0mself\u001b[0m\u001b[0;34m.\u001b[0m\u001b[0m_reader\u001b[0m\u001b[0;34m.\u001b[0m\u001b[0munnamed_cols\u001b[0m\u001b[0;34m\u001b[0m\u001b[0;34m\u001b[0m\u001b[0m\n\u001b[1;32m   1893\u001b[0m \u001b[0;34m\u001b[0m\u001b[0m\n",
      "\u001b[0;32mpandas/_libs/parsers.pyx\u001b[0m in \u001b[0;36mpandas._libs.parsers.TextReader.__cinit__\u001b[0;34m()\u001b[0m\n",
      "\u001b[0;32mpandas/_libs/parsers.pyx\u001b[0m in \u001b[0;36mpandas._libs.parsers.TextReader._setup_parser_source\u001b[0;34m()\u001b[0m\n",
      "\u001b[0;31mFileNotFoundError\u001b[0m: [Errno 2] File ../data/air-bnb-listings.csv does not exist: '../data/air-bnb-listings.csv'"
     ]
    }
   ],
   "source": [
    "air_df = pd.read_csv(\"../data/air-bnb-listings.csv\", sep=';')\n",
    "air_df['City'] = air_df['City'].str.replace('-', ' ')\n",
    "# Convert to uppercase for later matching\n",
    "air_df['City'] = air_df['City'].str.upper()\n",
    "# Strip 'City' from City names (e.g. NEW YORK not NEW YORK CITY)\n",
    "# But also converts JERSEY CITY to JERSEY\n",
    "air_df['City'] = air_df['City'].str.replace(' CITY', '')\n",
    "air_df['City'] = air_df['City'].str.replace(' COUNTY', '')\n",
    "air_df.head()"
   ]
  },
  {
   "cell_type": "markdown",
   "metadata": {},
   "source": [
    "#### Global"
   ]
  },
  {
   "cell_type": "code",
   "execution_count": null,
   "metadata": {},
   "outputs": [],
   "source": [
    "airbnb_city = pd.Series(air_df['City'].unique())\n",
    "len(airbnb_city)"
   ]
  },
  {
   "cell_type": "code",
   "execution_count": null,
   "metadata": {},
   "outputs": [],
   "source": [
    "airbnb_countries = pd.Series(air_df['Country'].unique())\n",
    "len(airbnb_countries)"
   ]
  },
  {
   "cell_type": "markdown",
   "metadata": {},
   "source": [
    "#### United States"
   ]
  },
  {
   "cell_type": "markdown",
   "metadata": {},
   "source": [
    "Notice that dataset still contains 'NV', 'OR, 'MSA', 'DC'"
   ]
  },
  {
   "cell_type": "code",
   "execution_count": null,
   "metadata": {},
   "outputs": [],
   "source": [
    "air_us_cities = air_df[air_df['Country'].str.contains('United states')]\n",
    "airbnb_us_cities = pd.Series(sorted(air_us_cities['City'].unique()))\n",
    "airbnb_us_cities"
   ]
  },
  {
   "cell_type": "markdown",
   "metadata": {},
   "source": [
    "## Kaggle Cost of Living, etc. for Global Cities"
   ]
  },
  {
   "cell_type": "code",
   "execution_count": null,
   "metadata": {},
   "outputs": [],
   "source": [
    "costs_df = pd.read_csv(\"../data/Cost_of_living_index.csv\")\n",
    "costs_df.rename(columns = {'City':'City_Country'}, inplace = True)\n",
    "costs_df"
   ]
  },
  {
   "cell_type": "code",
   "execution_count": null,
   "metadata": {},
   "outputs": [],
   "source": [
    "# Split City and Country\n",
    "cc_df = costs_df['City_Country'].apply(lambda x: pd.Series(x.split(',', 1)))\n",
    "\n",
    "# Remove State Abbreviations from US entries\n",
    "cc_df[1] = cc_df[1].apply(lambda x: pd.Series(re.sub(r'\\w*,\\s', '',x)))\n",
    "\n",
    "# Clean up Dataframe\n",
    "city_costs_df = pd.concat([cc_df, costs_df], axis=1)\n",
    "city_costs_df.rename(columns={0:'City',1:'Country'},inplace=True)\n",
    "\n",
    "# Convert to uppercase for later matching\n",
    "city_costs_df['City'] = city_costs_df['City'].str.upper()\n",
    "\n",
    "city_costs_df['City'] = city_costs_df['City'].str.replace(' CITY', '')\n",
    "city_costs_df['City'] = city_costs_df['City'].str.replace(' COUNTY', '')"
   ]
  },
  {
   "cell_type": "markdown",
   "metadata": {},
   "source": [
    "#### Number of Cities"
   ]
  },
  {
   "cell_type": "code",
   "execution_count": null,
   "metadata": {},
   "outputs": [],
   "source": [
    "city_costs = pd.Series(city_costs_df['City'].unique())\n",
    "len(city_costs)"
   ]
  },
  {
   "cell_type": "markdown",
   "metadata": {},
   "source": [
    "#### Number of Countries"
   ]
  },
  {
   "cell_type": "code",
   "execution_count": null,
   "metadata": {},
   "outputs": [],
   "source": [
    "country_costs = pd.Series(city_costs_df['Country'].unique())\n",
    "len(country_costs)"
   ]
  },
  {
   "cell_type": "markdown",
   "metadata": {},
   "source": [
    "## Kaggle Population for Global Cities"
   ]
  },
  {
   "cell_type": "code",
   "execution_count": 3,
   "metadata": {},
   "outputs": [
    {
     "data": {
      "text/html": [
       "<div>\n",
       "<style scoped>\n",
       "    .dataframe tbody tr th:only-of-type {\n",
       "        vertical-align: middle;\n",
       "    }\n",
       "\n",
       "    .dataframe tbody tr th {\n",
       "        vertical-align: top;\n",
       "    }\n",
       "\n",
       "    .dataframe thead th {\n",
       "        text-align: right;\n",
       "    }\n",
       "</style>\n",
       "<table border=\"1\" class=\"dataframe\">\n",
       "  <thead>\n",
       "    <tr style=\"text-align: right;\">\n",
       "      <th></th>\n",
       "      <th>geonameid</th>\n",
       "      <th>name</th>\n",
       "      <th>asciiname</th>\n",
       "      <th>alternatenames</th>\n",
       "      <th>latitude</th>\n",
       "      <th>longitude</th>\n",
       "      <th>feature class</th>\n",
       "      <th>feature code</th>\n",
       "      <th>country code</th>\n",
       "      <th>cc2</th>\n",
       "      <th>admin1 code</th>\n",
       "      <th>admin2 code</th>\n",
       "      <th>admin3 code</th>\n",
       "      <th>admin4 code</th>\n",
       "      <th>population</th>\n",
       "      <th>elevation</th>\n",
       "      <th>dem</th>\n",
       "      <th>timezone</th>\n",
       "      <th>modification date</th>\n",
       "    </tr>\n",
       "  </thead>\n",
       "  <tbody>\n",
       "    <tr>\n",
       "      <th>0</th>\n",
       "      <td>3040051</td>\n",
       "      <td>les Escaldes</td>\n",
       "      <td>LES ESCALDES</td>\n",
       "      <td>Ehskal'des-Ehndzhordani,Escaldes,Escaldes-Engo...</td>\n",
       "      <td>42.50729</td>\n",
       "      <td>1.53414</td>\n",
       "      <td>P</td>\n",
       "      <td>PPLA</td>\n",
       "      <td>AD</td>\n",
       "      <td>NaN</td>\n",
       "      <td>8</td>\n",
       "      <td>NaN</td>\n",
       "      <td>NaN</td>\n",
       "      <td>NaN</td>\n",
       "      <td>15853</td>\n",
       "      <td>NaN</td>\n",
       "      <td>1033.0</td>\n",
       "      <td>Europe/Andorra</td>\n",
       "      <td>10/15/08</td>\n",
       "    </tr>\n",
       "    <tr>\n",
       "      <th>1</th>\n",
       "      <td>3041563</td>\n",
       "      <td>Andorra la Vella</td>\n",
       "      <td>ANDORRA LA VELLA</td>\n",
       "      <td>ALV,Ando-la-Vyey,Andora,Andora la Vela,Andora ...</td>\n",
       "      <td>42.50779</td>\n",
       "      <td>1.52109</td>\n",
       "      <td>P</td>\n",
       "      <td>PPLC</td>\n",
       "      <td>AD</td>\n",
       "      <td>NaN</td>\n",
       "      <td>7</td>\n",
       "      <td>NaN</td>\n",
       "      <td>NaN</td>\n",
       "      <td>NaN</td>\n",
       "      <td>20430</td>\n",
       "      <td>NaN</td>\n",
       "      <td>1037.0</td>\n",
       "      <td>Europe/Andorra</td>\n",
       "      <td>5/30/10</td>\n",
       "    </tr>\n",
       "    <tr>\n",
       "      <th>2</th>\n",
       "      <td>290594</td>\n",
       "      <td>Umm al Qaywayn</td>\n",
       "      <td>UMM AL QAYWAYN</td>\n",
       "      <td>Oumm al Qaiwain,Oumm al QaÌøwaÌøn,Um al Kawain...</td>\n",
       "      <td>25.56473</td>\n",
       "      <td>55.55517</td>\n",
       "      <td>P</td>\n",
       "      <td>PPLA</td>\n",
       "      <td>AE</td>\n",
       "      <td>NaN</td>\n",
       "      <td>7</td>\n",
       "      <td>NaN</td>\n",
       "      <td>NaN</td>\n",
       "      <td>NaN</td>\n",
       "      <td>44411</td>\n",
       "      <td>NaN</td>\n",
       "      <td>2.0</td>\n",
       "      <td>Asia/Dubai</td>\n",
       "      <td>10/7/14</td>\n",
       "    </tr>\n",
       "    <tr>\n",
       "      <th>3</th>\n",
       "      <td>291074</td>\n",
       "      <td>Ras al-Khaimah</td>\n",
       "      <td>RAS AL-KHAIMAH</td>\n",
       "      <td>Julfa,Khaimah,RKT,Ra's al Khaymah,Ra's al-Chai...</td>\n",
       "      <td>25.78953</td>\n",
       "      <td>55.9432</td>\n",
       "      <td>P</td>\n",
       "      <td>PPLA</td>\n",
       "      <td>AE</td>\n",
       "      <td>NaN</td>\n",
       "      <td>5</td>\n",
       "      <td>NaN</td>\n",
       "      <td>NaN</td>\n",
       "      <td>NaN</td>\n",
       "      <td>115949</td>\n",
       "      <td>NaN</td>\n",
       "      <td>2.0</td>\n",
       "      <td>Asia/Dubai</td>\n",
       "      <td>12/5/15</td>\n",
       "    </tr>\n",
       "    <tr>\n",
       "      <th>4</th>\n",
       "      <td>291696</td>\n",
       "      <td>Khawr Fakkn</td>\n",
       "      <td>KHAWR FAKKAN</td>\n",
       "      <td>Fakkan,Fakkn,Khawr Fakkan,Khawr Fakkn,Khaw...</td>\n",
       "      <td>25.33132</td>\n",
       "      <td>56.34199</td>\n",
       "      <td>P</td>\n",
       "      <td>PPL</td>\n",
       "      <td>AE</td>\n",
       "      <td>NaN</td>\n",
       "      <td>6</td>\n",
       "      <td>NaN</td>\n",
       "      <td>NaN</td>\n",
       "      <td>NaN</td>\n",
       "      <td>33575</td>\n",
       "      <td>NaN</td>\n",
       "      <td>20.0</td>\n",
       "      <td>Asia/Dubai</td>\n",
       "      <td>10/25/13</td>\n",
       "    </tr>\n",
       "  </tbody>\n",
       "</table>\n",
       "</div>"
      ],
      "text/plain": [
       "  geonameid              name         asciiname  \\\n",
       "0   3040051      les Escaldes      LES ESCALDES   \n",
       "1   3041563  Andorra la Vella  ANDORRA LA VELLA   \n",
       "2    290594    Umm al Qaywayn    UMM AL QAYWAYN   \n",
       "3    291074    Ras al-Khaimah    RAS AL-KHAIMAH   \n",
       "4    291696     Khawr Fakkn      KHAWR FAKKAN   \n",
       "\n",
       "                                      alternatenames  latitude longitude  \\\n",
       "0  Ehskal'des-Ehndzhordani,Escaldes,Escaldes-Engo...  42.50729   1.53414   \n",
       "1  ALV,Ando-la-Vyey,Andora,Andora la Vela,Andora ...  42.50779   1.52109   \n",
       "2  Oumm al Qaiwain,Oumm al QaÌøwaÌøn,Um al Kawain...  25.56473  55.55517   \n",
       "3  Julfa,Khaimah,RKT,Ra's al Khaymah,Ra's al-Chai...  25.78953   55.9432   \n",
       "4  Fakkan,Fakkn,Khawr Fakkan,Khawr Fakkn,Khaw...  25.33132  56.34199   \n",
       "\n",
       "  feature class feature code country code  cc2 admin1 code admin2 code  \\\n",
       "0             P         PPLA           AD  NaN           8         NaN   \n",
       "1             P         PPLC           AD  NaN           7         NaN   \n",
       "2             P         PPLA           AE  NaN           7         NaN   \n",
       "3             P         PPLA           AE  NaN           5         NaN   \n",
       "4             P          PPL           AE  NaN           6         NaN   \n",
       "\n",
       "  admin3 code admin4 code population elevation     dem        timezone  \\\n",
       "0         NaN         NaN      15853       NaN  1033.0  Europe/Andorra   \n",
       "1         NaN         NaN      20430       NaN  1037.0  Europe/Andorra   \n",
       "2         NaN         NaN      44411       NaN     2.0      Asia/Dubai   \n",
       "3         NaN         NaN     115949       NaN     2.0      Asia/Dubai   \n",
       "4         NaN         NaN      33575       NaN    20.0      Asia/Dubai   \n",
       "\n",
       "  modification date  \n",
       "0          10/15/08  \n",
       "1           5/30/10  \n",
       "2           10/7/14  \n",
       "3           12/5/15  \n",
       "4          10/25/13  "
      ]
     },
     "execution_count": 3,
     "metadata": {},
     "output_type": "execute_result"
    }
   ],
   "source": [
    "pop_df = pd.read_csv('../data/cities15000.csv', encoding = \"ISO-8859-1\")\n",
    "# Convert to uppercase for later matching\n",
    "pop_df['asciiname'] = pop_df['asciiname'].str.upper()\n",
    "\n",
    "pop_df['asciiname'] = pop_df['asciiname'].str.replace(' CITY', '')\n",
    "pop_df['asciiname'] = pop_df['asciiname'].str.replace(' COUNTY', '')\n",
    "\n",
    "pop_df.head()"
   ]
  },
  {
   "cell_type": "markdown",
   "metadata": {},
   "source": [
    "#### Total Cities"
   ]
  },
  {
   "cell_type": "code",
   "execution_count": 4,
   "metadata": {},
   "outputs": [
    {
     "data": {
      "text/plain": [
       "22229"
      ]
     },
     "execution_count": 4,
     "metadata": {},
     "output_type": "execute_result"
    }
   ],
   "source": [
    "city_pop = pd.Series(pop_df['asciiname'].unique())\n",
    "len(city_pop)"
   ]
  },
  {
   "cell_type": "markdown",
   "metadata": {},
   "source": [
    "#### Total Country Codes"
   ]
  },
  {
   "cell_type": "code",
   "execution_count": 5,
   "metadata": {},
   "outputs": [
    {
     "data": {
      "text/plain": [
       "245"
      ]
     },
     "execution_count": 5,
     "metadata": {},
     "output_type": "execute_result"
    }
   ],
   "source": [
    "country_pop = pd.Series(pop_df['country code'].unique())\n",
    "len(country_pop)"
   ]
  },
  {
   "cell_type": "markdown",
   "metadata": {},
   "source": [
    "## Find Common Cities"
   ]
  },
  {
   "cell_type": "markdown",
   "metadata": {},
   "source": [
    "### Cities in both population and Cost of X Sets"
   ]
  },
  {
   "cell_type": "code",
   "execution_count": null,
   "metadata": {},
   "outputs": [],
   "source": [
    "pop_costs = pd.Series(list(set(city_costs) & set(city_pop)))\n",
    "pop_costs"
   ]
  },
  {
   "cell_type": "markdown",
   "metadata": {},
   "source": [
    "### Cities in Cost Set but not Population - (Spelling differences, etc.)"
   ]
  },
  {
   "cell_type": "code",
   "execution_count": null,
   "metadata": {},
   "outputs": [],
   "source": [
    "cost_cities = pd.Series(list(set(city_costs) - set(city_pop)))\n",
    "cost_cities"
   ]
  },
  {
   "cell_type": "markdown",
   "metadata": {},
   "source": [
    "### Cities in Airbnb Dataset and Cost of X Sets"
   ]
  },
  {
   "cell_type": "code",
   "execution_count": null,
   "metadata": {},
   "outputs": [],
   "source": [
    "air_cost_list = pd.Series(list(set(airbnb_city) & set(city_costs)))\n",
    "len(air_cost_list)"
   ]
  },
  {
   "cell_type": "markdown",
   "metadata": {},
   "source": [
    "### Cities and Airbnb, Population, AND Cost of X Sets"
   ]
  },
  {
   "cell_type": "markdown",
   "metadata": {},
   "source": [
    "#### What cities can't we find a match for in the common dataset (of Pop and Cost of X)\n",
    "* Edinburgh is spelled Edinburg\n",
    "* Hawaii is a state, Barwon South West Vic - region/provinence\n",
    "* Visualisations?\n",
    "\n",
    "Gives us an idea of extent of data cleaning we would need to automate it\n"
   ]
  },
  {
   "cell_type": "code",
   "execution_count": null,
   "metadata": {},
   "outputs": [],
   "source": [
    "# Airbnb minus the intersection of found cities\n",
    "missing_cities = (set(airbnb_city)) - (set(airbnb_city) & set(pop_costs))\n",
    "missing_cities                        "
   ]
  },
  {
   "cell_type": "markdown",
   "metadata": {},
   "source": [
    "#### Cities Found in Airbnb AND Population AND Cost of X"
   ]
  },
  {
   "cell_type": "code",
   "execution_count": null,
   "metadata": {},
   "outputs": [],
   "source": [
    "air_pop_cost_list = sorted((list(set(airbnb_city) & set(pop_costs))))\n",
    "print(len(air_pop_cost_list))\n",
    "print(air_pop_cost_list)"
   ]
  },
  {
   "cell_type": "markdown",
   "metadata": {},
   "source": [
    "#### Total listings for All Cities in Airbnb, Population, and Cost of X Sets"
   ]
  },
  {
   "cell_type": "code",
   "execution_count": null,
   "metadata": {},
   "outputs": [],
   "source": [
    "global_cities = air_df.groupby(\"City\", as_index=False)[\"Room ID\"].count()\n",
    "global_city_listings = global_cities[global_cities['City'].isin(air_pop_cost_list)==True]\n",
    "pd.Series(global_city_listings['Room ID']).sum()"
   ]
  },
  {
   "cell_type": "markdown",
   "metadata": {},
   "source": [
    "#### US Cities in Airbnb and Population and Cost of X Sets"
   ]
  },
  {
   "cell_type": "code",
   "execution_count": null,
   "metadata": {},
   "outputs": [],
   "source": [
    "us_air_pop_cost = pd.Series(list(set(airbnb_us_cities) & set(pop_costs))).tolist()\n",
    "print(len(us_air_pop_cost))\n",
    "print(us_air_pop_cost)"
   ]
  },
  {
   "cell_type": "markdown",
   "metadata": {},
   "source": [
    "#### Total Listings for US Cities in Airbnb, Population, and Cost of X Sets"
   ]
  },
  {
   "cell_type": "code",
   "execution_count": null,
   "metadata": {},
   "outputs": [],
   "source": [
    "cities = air_df.groupby(\"City\", as_index=False)[\"Room ID\"].count()\n",
    "city_listings = cities[cities['City'].isin(us_air_pop_cost)==True]\n",
    "pd.Series(city_listings['Room ID']).sum()"
   ]
  },
  {
   "cell_type": "markdown",
   "metadata": {},
   "source": [
    "#### City Explorations"
   ]
  },
  {
   "cell_type": "code",
   "execution_count": null,
   "metadata": {},
   "outputs": [],
   "source": [
    "amst_df = pd.read_csv(\"../data/Amsterdam_08June2020.csv\")\n",
    "amst_df"
   ]
  },
  {
   "cell_type": "code",
   "execution_count": null,
   "metadata": {},
   "outputs": [],
   "source": [
    "amst_df.room_type.unique()"
   ]
  },
  {
   "cell_type": "code",
   "execution_count": null,
   "metadata": {},
   "outputs": [],
   "source": [
    "city_costs_df"
   ]
  },
  {
   "cell_type": "code",
   "execution_count": 6,
   "metadata": {},
   "outputs": [
    {
     "data": {
      "text/html": [
       "<div>\n",
       "<style scoped>\n",
       "    .dataframe tbody tr th:only-of-type {\n",
       "        vertical-align: middle;\n",
       "    }\n",
       "\n",
       "    .dataframe tbody tr th {\n",
       "        vertical-align: top;\n",
       "    }\n",
       "\n",
       "    .dataframe thead th {\n",
       "        text-align: right;\n",
       "    }\n",
       "</style>\n",
       "<table border=\"1\" class=\"dataframe\">\n",
       "  <thead>\n",
       "    <tr style=\"text-align: right;\">\n",
       "      <th></th>\n",
       "      <th>geonameid</th>\n",
       "      <th>name</th>\n",
       "      <th>asciiname</th>\n",
       "      <th>alternatenames</th>\n",
       "      <th>latitude</th>\n",
       "      <th>longitude</th>\n",
       "      <th>feature class</th>\n",
       "      <th>feature code</th>\n",
       "      <th>country code</th>\n",
       "      <th>cc2</th>\n",
       "      <th>admin1 code</th>\n",
       "      <th>admin2 code</th>\n",
       "      <th>admin3 code</th>\n",
       "      <th>admin4 code</th>\n",
       "      <th>population</th>\n",
       "      <th>elevation</th>\n",
       "      <th>dem</th>\n",
       "      <th>timezone</th>\n",
       "      <th>modification date</th>\n",
       "    </tr>\n",
       "  </thead>\n",
       "  <tbody>\n",
       "    <tr>\n",
       "      <th>0</th>\n",
       "      <td>3040051</td>\n",
       "      <td>les Escaldes</td>\n",
       "      <td>LES ESCALDES</td>\n",
       "      <td>Ehskal'des-Ehndzhordani,Escaldes,Escaldes-Engo...</td>\n",
       "      <td>42.50729</td>\n",
       "      <td>1.53414</td>\n",
       "      <td>P</td>\n",
       "      <td>PPLA</td>\n",
       "      <td>AD</td>\n",
       "      <td>NaN</td>\n",
       "      <td>8</td>\n",
       "      <td>NaN</td>\n",
       "      <td>NaN</td>\n",
       "      <td>NaN</td>\n",
       "      <td>15853</td>\n",
       "      <td>NaN</td>\n",
       "      <td>1033.0</td>\n",
       "      <td>Europe/Andorra</td>\n",
       "      <td>10/15/08</td>\n",
       "    </tr>\n",
       "    <tr>\n",
       "      <th>1</th>\n",
       "      <td>3041563</td>\n",
       "      <td>Andorra la Vella</td>\n",
       "      <td>ANDORRA LA VELLA</td>\n",
       "      <td>ALV,Ando-la-Vyey,Andora,Andora la Vela,Andora ...</td>\n",
       "      <td>42.50779</td>\n",
       "      <td>1.52109</td>\n",
       "      <td>P</td>\n",
       "      <td>PPLC</td>\n",
       "      <td>AD</td>\n",
       "      <td>NaN</td>\n",
       "      <td>7</td>\n",
       "      <td>NaN</td>\n",
       "      <td>NaN</td>\n",
       "      <td>NaN</td>\n",
       "      <td>20430</td>\n",
       "      <td>NaN</td>\n",
       "      <td>1037.0</td>\n",
       "      <td>Europe/Andorra</td>\n",
       "      <td>5/30/10</td>\n",
       "    </tr>\n",
       "    <tr>\n",
       "      <th>2</th>\n",
       "      <td>290594</td>\n",
       "      <td>Umm al Qaywayn</td>\n",
       "      <td>UMM AL QAYWAYN</td>\n",
       "      <td>Oumm al Qaiwain,Oumm al QaÌøwaÌøn,Um al Kawain...</td>\n",
       "      <td>25.56473</td>\n",
       "      <td>55.55517</td>\n",
       "      <td>P</td>\n",
       "      <td>PPLA</td>\n",
       "      <td>AE</td>\n",
       "      <td>NaN</td>\n",
       "      <td>7</td>\n",
       "      <td>NaN</td>\n",
       "      <td>NaN</td>\n",
       "      <td>NaN</td>\n",
       "      <td>44411</td>\n",
       "      <td>NaN</td>\n",
       "      <td>2.0</td>\n",
       "      <td>Asia/Dubai</td>\n",
       "      <td>10/7/14</td>\n",
       "    </tr>\n",
       "    <tr>\n",
       "      <th>3</th>\n",
       "      <td>291074</td>\n",
       "      <td>Ras al-Khaimah</td>\n",
       "      <td>RAS AL-KHAIMAH</td>\n",
       "      <td>Julfa,Khaimah,RKT,Ra's al Khaymah,Ra's al-Chai...</td>\n",
       "      <td>25.78953</td>\n",
       "      <td>55.9432</td>\n",
       "      <td>P</td>\n",
       "      <td>PPLA</td>\n",
       "      <td>AE</td>\n",
       "      <td>NaN</td>\n",
       "      <td>5</td>\n",
       "      <td>NaN</td>\n",
       "      <td>NaN</td>\n",
       "      <td>NaN</td>\n",
       "      <td>115949</td>\n",
       "      <td>NaN</td>\n",
       "      <td>2.0</td>\n",
       "      <td>Asia/Dubai</td>\n",
       "      <td>12/5/15</td>\n",
       "    </tr>\n",
       "    <tr>\n",
       "      <th>4</th>\n",
       "      <td>291696</td>\n",
       "      <td>Khawr Fakkn</td>\n",
       "      <td>KHAWR FAKKAN</td>\n",
       "      <td>Fakkan,Fakkn,Khawr Fakkan,Khawr Fakkn,Khaw...</td>\n",
       "      <td>25.33132</td>\n",
       "      <td>56.34199</td>\n",
       "      <td>P</td>\n",
       "      <td>PPL</td>\n",
       "      <td>AE</td>\n",
       "      <td>NaN</td>\n",
       "      <td>6</td>\n",
       "      <td>NaN</td>\n",
       "      <td>NaN</td>\n",
       "      <td>NaN</td>\n",
       "      <td>33575</td>\n",
       "      <td>NaN</td>\n",
       "      <td>20.0</td>\n",
       "      <td>Asia/Dubai</td>\n",
       "      <td>10/25/13</td>\n",
       "    </tr>\n",
       "    <tr>\n",
       "      <th>...</th>\n",
       "      <td>...</td>\n",
       "      <td>...</td>\n",
       "      <td>...</td>\n",
       "      <td>...</td>\n",
       "      <td>...</td>\n",
       "      <td>...</td>\n",
       "      <td>...</td>\n",
       "      <td>...</td>\n",
       "      <td>...</td>\n",
       "      <td>...</td>\n",
       "      <td>...</td>\n",
       "      <td>...</td>\n",
       "      <td>...</td>\n",
       "      <td>...</td>\n",
       "      <td>...</td>\n",
       "      <td>...</td>\n",
       "      <td>...</td>\n",
       "      <td>...</td>\n",
       "      <td>...</td>\n",
       "    </tr>\n",
       "    <tr>\n",
       "      <th>23464</th>\n",
       "      <td>894701</td>\n",
       "      <td>Bulawayo</td>\n",
       "      <td>BULAWAYO</td>\n",
       "      <td>BUQ,Bulavajas,Bulavajo,Bulavejo,Bulawayo,Gorad...</td>\n",
       "      <td>-20.15</td>\n",
       "      <td>28.58333</td>\n",
       "      <td>P</td>\n",
       "      <td>PPLA</td>\n",
       "      <td>ZW</td>\n",
       "      <td>NaN</td>\n",
       "      <td>9</td>\n",
       "      <td>NaN</td>\n",
       "      <td>NaN</td>\n",
       "      <td>NaN</td>\n",
       "      <td>699385</td>\n",
       "      <td>NaN</td>\n",
       "      <td>1348.0</td>\n",
       "      <td>Africa/Harare</td>\n",
       "      <td>8/3/10</td>\n",
       "    </tr>\n",
       "    <tr>\n",
       "      <th>23465</th>\n",
       "      <td>895061</td>\n",
       "      <td>Bindura</td>\n",
       "      <td>BINDURA</td>\n",
       "      <td>Bindura,Bindura Town,Kimberley Reefs,_Ô_ü___«...</td>\n",
       "      <td>-17.30192</td>\n",
       "      <td>31.33056</td>\n",
       "      <td>P</td>\n",
       "      <td>PPLA</td>\n",
       "      <td>ZW</td>\n",
       "      <td>NaN</td>\n",
       "      <td>3</td>\n",
       "      <td>NaN</td>\n",
       "      <td>NaN</td>\n",
       "      <td>NaN</td>\n",
       "      <td>37423</td>\n",
       "      <td>NaN</td>\n",
       "      <td>1118.0</td>\n",
       "      <td>Africa/Harare</td>\n",
       "      <td>8/3/10</td>\n",
       "    </tr>\n",
       "    <tr>\n",
       "      <th>23466</th>\n",
       "      <td>895269</td>\n",
       "      <td>Beitbridge</td>\n",
       "      <td>BEITBRIDGE</td>\n",
       "      <td>Bajtbridz,Bajtbridzh,Beitbridge,Beitbridzas,Be...</td>\n",
       "      <td>-22.21667</td>\n",
       "      <td>30</td>\n",
       "      <td>P</td>\n",
       "      <td>PPL</td>\n",
       "      <td>ZW</td>\n",
       "      <td>NaN</td>\n",
       "      <td>7</td>\n",
       "      <td>NaN</td>\n",
       "      <td>NaN</td>\n",
       "      <td>NaN</td>\n",
       "      <td>26459</td>\n",
       "      <td>NaN</td>\n",
       "      <td>461.0</td>\n",
       "      <td>Africa/Harare</td>\n",
       "      <td>3/12/13</td>\n",
       "    </tr>\n",
       "    <tr>\n",
       "      <th>23467</th>\n",
       "      <td>1085510</td>\n",
       "      <td>Epworth</td>\n",
       "      <td>EPWORTH</td>\n",
       "      <td>Epworth</td>\n",
       "      <td>-17.89</td>\n",
       "      <td>31.1475</td>\n",
       "      <td>P</td>\n",
       "      <td>PPLX</td>\n",
       "      <td>ZW</td>\n",
       "      <td>NaN</td>\n",
       "      <td>10</td>\n",
       "      <td>NaN</td>\n",
       "      <td>NaN</td>\n",
       "      <td>NaN</td>\n",
       "      <td>123250</td>\n",
       "      <td>NaN</td>\n",
       "      <td>1508.0</td>\n",
       "      <td>Africa/Harare</td>\n",
       "      <td>1/19/12</td>\n",
       "    </tr>\n",
       "    <tr>\n",
       "      <th>23468</th>\n",
       "      <td>1106542</td>\n",
       "      <td>Chitungwiza</td>\n",
       "      <td>CHITUNGWIZA</td>\n",
       "      <td>Chitungviza,Chitungwiza,Citungviza,Gorad Chytu...</td>\n",
       "      <td>-18.01274</td>\n",
       "      <td>31.07555</td>\n",
       "      <td>P</td>\n",
       "      <td>PPL</td>\n",
       "      <td>ZW</td>\n",
       "      <td>NaN</td>\n",
       "      <td>10</td>\n",
       "      <td>NaN</td>\n",
       "      <td>NaN</td>\n",
       "      <td>NaN</td>\n",
       "      <td>340360</td>\n",
       "      <td>NaN</td>\n",
       "      <td>1435.0</td>\n",
       "      <td>Africa/Harare</td>\n",
       "      <td>1/20/12</td>\n",
       "    </tr>\n",
       "  </tbody>\n",
       "</table>\n",
       "<p>23469 rows × 19 columns</p>\n",
       "</div>"
      ],
      "text/plain": [
       "      geonameid              name         asciiname  \\\n",
       "0       3040051      les Escaldes      LES ESCALDES   \n",
       "1       3041563  Andorra la Vella  ANDORRA LA VELLA   \n",
       "2        290594    Umm al Qaywayn    UMM AL QAYWAYN   \n",
       "3        291074    Ras al-Khaimah    RAS AL-KHAIMAH   \n",
       "4        291696     Khawr Fakkn      KHAWR FAKKAN   \n",
       "...         ...               ...               ...   \n",
       "23464    894701          Bulawayo          BULAWAYO   \n",
       "23465    895061           Bindura           BINDURA   \n",
       "23466    895269        Beitbridge        BEITBRIDGE   \n",
       "23467   1085510           Epworth           EPWORTH   \n",
       "23468   1106542       Chitungwiza       CHITUNGWIZA   \n",
       "\n",
       "                                          alternatenames   latitude longitude  \\\n",
       "0      Ehskal'des-Ehndzhordani,Escaldes,Escaldes-Engo...   42.50729   1.53414   \n",
       "1      ALV,Ando-la-Vyey,Andora,Andora la Vela,Andora ...   42.50779   1.52109   \n",
       "2      Oumm al Qaiwain,Oumm al QaÌøwaÌøn,Um al Kawain...   25.56473  55.55517   \n",
       "3      Julfa,Khaimah,RKT,Ra's al Khaymah,Ra's al-Chai...   25.78953   55.9432   \n",
       "4      Fakkan,Fakkn,Khawr Fakkan,Khawr Fakkn,Khaw...   25.33132  56.34199   \n",
       "...                                                  ...        ...       ...   \n",
       "23464  BUQ,Bulavajas,Bulavajo,Bulavejo,Bulawayo,Gorad...     -20.15  28.58333   \n",
       "23465  Bindura,Bindura Town,Kimberley Reefs,_Ô_ü___«...  -17.30192  31.33056   \n",
       "23466  Bajtbridz,Bajtbridzh,Beitbridge,Beitbridzas,Be...  -22.21667        30   \n",
       "23467                                            Epworth     -17.89   31.1475   \n",
       "23468  Chitungviza,Chitungwiza,Citungviza,Gorad Chytu...  -18.01274  31.07555   \n",
       "\n",
       "      feature class feature code country code  cc2 admin1 code admin2 code  \\\n",
       "0                 P         PPLA           AD  NaN           8         NaN   \n",
       "1                 P         PPLC           AD  NaN           7         NaN   \n",
       "2                 P         PPLA           AE  NaN           7         NaN   \n",
       "3                 P         PPLA           AE  NaN           5         NaN   \n",
       "4                 P          PPL           AE  NaN           6         NaN   \n",
       "...             ...          ...          ...  ...         ...         ...   \n",
       "23464             P         PPLA           ZW  NaN           9         NaN   \n",
       "23465             P         PPLA           ZW  NaN           3         NaN   \n",
       "23466             P          PPL           ZW  NaN           7         NaN   \n",
       "23467             P         PPLX           ZW  NaN          10         NaN   \n",
       "23468             P          PPL           ZW  NaN          10         NaN   \n",
       "\n",
       "      admin3 code admin4 code population elevation     dem        timezone  \\\n",
       "0             NaN         NaN      15853       NaN  1033.0  Europe/Andorra   \n",
       "1             NaN         NaN      20430       NaN  1037.0  Europe/Andorra   \n",
       "2             NaN         NaN      44411       NaN     2.0      Asia/Dubai   \n",
       "3             NaN         NaN     115949       NaN     2.0      Asia/Dubai   \n",
       "4             NaN         NaN      33575       NaN    20.0      Asia/Dubai   \n",
       "...           ...         ...        ...       ...     ...             ...   \n",
       "23464         NaN         NaN     699385       NaN  1348.0   Africa/Harare   \n",
       "23465         NaN         NaN      37423       NaN  1118.0   Africa/Harare   \n",
       "23466         NaN         NaN      26459       NaN   461.0   Africa/Harare   \n",
       "23467         NaN         NaN     123250       NaN  1508.0   Africa/Harare   \n",
       "23468         NaN         NaN     340360       NaN  1435.0   Africa/Harare   \n",
       "\n",
       "      modification date  \n",
       "0              10/15/08  \n",
       "1               5/30/10  \n",
       "2               10/7/14  \n",
       "3               12/5/15  \n",
       "4              10/25/13  \n",
       "...                 ...  \n",
       "23464            8/3/10  \n",
       "23465            8/3/10  \n",
       "23466           3/12/13  \n",
       "23467           1/19/12  \n",
       "23468           1/20/12  \n",
       "\n",
       "[23469 rows x 19 columns]"
      ]
     },
     "execution_count": 6,
     "metadata": {},
     "output_type": "execute_result"
    }
   ],
   "source": [
    "pop_df"
   ]
  },
  {
   "cell_type": "code",
   "execution_count": 50,
   "metadata": {},
   "outputs": [
    {
     "ename": "SyntaxError",
     "evalue": "invalid syntax (<ipython-input-50-47a0ba808002>, line 5)",
     "output_type": "error",
     "traceback": [
      "\u001b[0;36m  File \u001b[0;32m\"<ipython-input-50-47a0ba808002>\"\u001b[0;36m, line \u001b[0;32m5\u001b[0m\n\u001b[0;31m    print(l)\u001b[0m\n\u001b[0m        ^\u001b[0m\n\u001b[0;31mSyntaxError\u001b[0m\u001b[0;31m:\u001b[0m invalid syntax\n"
     ]
    }
   ],
   "source": [
    "x = pop_df['admin1 code'].unique()\n"
   ]
  },
  {
   "cell_type": "code",
   "execution_count": null,
   "metadata": {},
   "outputs": [],
   "source": []
  }
 ],
 "metadata": {
  "kernelspec": {
   "display_name": "Python 3",
   "language": "python",
   "name": "python3"
  },
  "language_info": {
   "codemirror_mode": {
    "name": "ipython",
    "version": 3
   },
   "file_extension": ".py",
   "mimetype": "text/x-python",
   "name": "python",
   "nbconvert_exporter": "python",
   "pygments_lexer": "ipython3",
   "version": "3.7.3"
  }
 },
 "nbformat": 4,
 "nbformat_minor": 2
}
