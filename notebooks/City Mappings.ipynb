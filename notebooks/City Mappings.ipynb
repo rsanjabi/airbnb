{
 "cells": [
  {
   "cell_type": "code",
   "execution_count": 1,
   "metadata": {},
   "outputs": [],
   "source": [
    "import pandas as pd\n",
    "import re"
   ]
  },
  {
   "cell_type": "markdown",
   "metadata": {},
   "source": [
    "## Inside Airbnb Data"
   ]
  },
  {
   "cell_type": "code",
   "execution_count": null,
   "metadata": {},
   "outputs": [],
   "source": [
    "air_df = pd.read_csv(\"../data/research/air-bnb-listings.csv\", sep=';')\n",
    "air_df['City'] = air_df['City'].str.replace('-', ' ')\n",
    "# Convert to uppercase for later matching\n",
    "air_df['City'] = air_df['City'].str.upper()\n",
    "# Strip 'City' from City names (e.g. NEW YORK not NEW YORK CITY)\n",
    "# But also converts JERSEY CITY to JERSEY\n",
    "air_df['City'] = air_df['City'].str.replace(' CITY', '')\n",
    "air_df['City'] = air_df['City'].str.replace(' COUNTY', '')\n",
    "air_df.head()"
   ]
  },
  {
   "cell_type": "markdown",
   "metadata": {},
   "source": [
    "#### Global"
   ]
  },
  {
   "cell_type": "code",
   "execution_count": null,
   "metadata": {},
   "outputs": [],
   "source": [
    "airbnb_city = pd.Series(air_df['City'].unique())\n",
    "len(airbnb_city)"
   ]
  },
  {
   "cell_type": "code",
   "execution_count": null,
   "metadata": {},
   "outputs": [],
   "source": [
    "airbnb_countries = pd.Series(air_df['Country'].unique())\n",
    "len(airbnb_countries)"
   ]
  },
  {
   "cell_type": "markdown",
   "metadata": {},
   "source": [
    "#### United States"
   ]
  },
  {
   "cell_type": "markdown",
   "metadata": {},
   "source": [
    "Notice that dataset still contains 'NV', 'OR, 'MSA', 'DC'"
   ]
  },
  {
   "cell_type": "code",
   "execution_count": null,
   "metadata": {},
   "outputs": [],
   "source": [
    "air_us_cities = air_df[air_df['Country'].str.contains('United states')]\n",
    "airbnb_us_cities = pd.Series(sorted(air_us_cities['City'].unique()))\n",
    "airbnb_us_cities"
   ]
  },
  {
   "cell_type": "markdown",
   "metadata": {},
   "source": [
    "## Kaggle Cost of Living, etc. for Global Cities"
   ]
  },
  {
   "cell_type": "code",
   "execution_count": null,
   "metadata": {},
   "outputs": [],
   "source": [
    "costs_df = pd.read_csv(\"../data/Cost_of_living_index.csv\")\n",
    "costs_df.rename(columns = {'City':'City_Country'}, inplace = True)\n",
    "costs_df"
   ]
  },
  {
   "cell_type": "code",
   "execution_count": null,
   "metadata": {},
   "outputs": [],
   "source": [
    "# Split City and Country\n",
    "cc_df = costs_df['City_Country'].apply(lambda x: pd.Series(x.split(',', 1)))\n",
    "\n",
    "# Remove State Abbreviations from US entries\n",
    "cc_df[1] = cc_df[1].apply(lambda x: pd.Series(re.sub(r'\\w*,\\s', '',x)))\n",
    "\n",
    "# Clean up Dataframe\n",
    "city_costs_df = pd.concat([cc_df, costs_df], axis=1)\n",
    "city_costs_df.rename(columns={0:'City',1:'Country'},inplace=True)\n",
    "\n",
    "# Convert to uppercase for later matching\n",
    "city_costs_df['City'] = city_costs_df['City'].str.upper()\n",
    "\n",
    "city_costs_df['City'] = city_costs_df['City'].str.replace(' CITY', '')\n",
    "city_costs_df['City'] = city_costs_df['City'].str.replace(' COUNTY', '')"
   ]
  },
  {
   "cell_type": "markdown",
   "metadata": {},
   "source": [
    "#### Number of Cities"
   ]
  },
  {
   "cell_type": "code",
   "execution_count": null,
   "metadata": {},
   "outputs": [],
   "source": [
    "city_costs = pd.Series(city_costs_df['City'].unique())\n",
    "len(city_costs)"
   ]
  },
  {
   "cell_type": "markdown",
   "metadata": {},
   "source": [
    "#### Number of Countries"
   ]
  },
  {
   "cell_type": "code",
   "execution_count": null,
   "metadata": {},
   "outputs": [],
   "source": [
    "country_costs = pd.Series(city_costs_df['Country'].unique())\n",
    "len(country_costs)"
   ]
  },
  {
   "cell_type": "markdown",
   "metadata": {},
   "source": [
    "## Kaggle Population for Global Cities"
   ]
  },
  {
   "cell_type": "code",
   "execution_count": 5,
   "metadata": {},
   "outputs": [
    {
     "data": {
      "text/html": [
       "<div>\n",
       "<style scoped>\n",
       "    .dataframe tbody tr th:only-of-type {\n",
       "        vertical-align: middle;\n",
       "    }\n",
       "\n",
       "    .dataframe tbody tr th {\n",
       "        vertical-align: top;\n",
       "    }\n",
       "\n",
       "    .dataframe thead th {\n",
       "        text-align: right;\n",
       "    }\n",
       "</style>\n",
       "<table border=\"1\" class=\"dataframe\">\n",
       "  <thead>\n",
       "    <tr style=\"text-align: right;\">\n",
       "      <th></th>\n",
       "      <th>geonameid</th>\n",
       "      <th>name</th>\n",
       "      <th>asciiname</th>\n",
       "      <th>alternatenames</th>\n",
       "      <th>latitude</th>\n",
       "      <th>longitude</th>\n",
       "      <th>feature class</th>\n",
       "      <th>feature code</th>\n",
       "      <th>country code</th>\n",
       "      <th>cc2</th>\n",
       "      <th>admin1 code</th>\n",
       "      <th>admin2 code</th>\n",
       "      <th>admin3 code</th>\n",
       "      <th>admin4 code</th>\n",
       "      <th>population</th>\n",
       "      <th>elevation</th>\n",
       "      <th>dem</th>\n",
       "      <th>timezone</th>\n",
       "      <th>modification date</th>\n",
       "    </tr>\n",
       "  </thead>\n",
       "  <tbody>\n",
       "    <tr>\n",
       "      <th>21347</th>\n",
       "      <td>4975802</td>\n",
       "      <td>Portland</td>\n",
       "      <td>Portland</td>\n",
       "      <td>Casco,Elbow,Falmouth,Falmouth Neck,Gorad Portl...</td>\n",
       "      <td>43.66147</td>\n",
       "      <td>-70.25533</td>\n",
       "      <td>P</td>\n",
       "      <td>PPLA2</td>\n",
       "      <td>US</td>\n",
       "      <td>NaN</td>\n",
       "      <td>ME</td>\n",
       "      <td>5</td>\n",
       "      <td>60545</td>\n",
       "      <td>NaN</td>\n",
       "      <td>66881</td>\n",
       "      <td>19</td>\n",
       "      <td>19.0</td>\n",
       "      <td>America/New_York</td>\n",
       "      <td>5/23/17</td>\n",
       "    </tr>\n",
       "    <tr>\n",
       "      <th>22637</th>\n",
       "      <td>5746545</td>\n",
       "      <td>Portland</td>\n",
       "      <td>Portland</td>\n",
       "      <td>Bridgetown,Gorad Portlend,P-town,PDX,Portland,...</td>\n",
       "      <td>45.52345</td>\n",
       "      <td>-122.67621</td>\n",
       "      <td>P</td>\n",
       "      <td>PPLA2</td>\n",
       "      <td>US</td>\n",
       "      <td>NaN</td>\n",
       "      <td>OR</td>\n",
       "      <td>51</td>\n",
       "      <td>NaN</td>\n",
       "      <td>NaN</td>\n",
       "      <td>632309</td>\n",
       "      <td>12</td>\n",
       "      <td>15.0</td>\n",
       "      <td>America/Los_Angeles</td>\n",
       "      <td>3/9/17</td>\n",
       "    </tr>\n",
       "  </tbody>\n",
       "</table>\n",
       "</div>"
      ],
      "text/plain": [
       "      geonameid      name asciiname  \\\n",
       "21347   4975802  Portland  Portland   \n",
       "22637   5746545  Portland  Portland   \n",
       "\n",
       "                                          alternatenames  latitude  \\\n",
       "21347  Casco,Elbow,Falmouth,Falmouth Neck,Gorad Portl...  43.66147   \n",
       "22637  Bridgetown,Gorad Portlend,P-town,PDX,Portland,...  45.52345   \n",
       "\n",
       "        longitude feature class feature code country code  cc2 admin1 code  \\\n",
       "21347   -70.25533             P        PPLA2           US  NaN          ME   \n",
       "22637  -122.67621             P        PPLA2           US  NaN          OR   \n",
       "\n",
       "      admin2 code admin3 code admin4 code population elevation   dem  \\\n",
       "21347           5       60545         NaN      66881        19  19.0   \n",
       "22637          51         NaN         NaN     632309        12  15.0   \n",
       "\n",
       "                  timezone modification date  \n",
       "21347     America/New_York           5/23/17  \n",
       "22637  America/Los_Angeles            3/9/17  "
      ]
     },
     "execution_count": 5,
     "metadata": {},
     "output_type": "execute_result"
    }
   ],
   "source": [
    "pop_df = pd.read_csv('../data/cities15000.csv', encoding = \"ISO-8859-1\")\n",
    "# Convert to uppercase for later matching\n",
    "# pop_df['asciiname'] = pop_df['asciiname'].str.upper()\n",
    "\n",
    "# pop_df['asciiname'] = pop_df['asciiname'].str.replace(' CITY', '')\n",
    "# pop_df['asciiname'] = pop_df['asciiname'].str.replace(' COUNTY', '')\n",
    "x = pop_df[pop_df['name'] == 'Portland']\n",
    "# pop_df.head()\n",
    "x"
   ]
  },
  {
   "cell_type": "markdown",
   "metadata": {},
   "source": [
    "#### Total Cities"
   ]
  },
  {
   "cell_type": "code",
   "execution_count": null,
   "metadata": {},
   "outputs": [],
   "source": [
    "city_pop = pd.Series(pop_df['asciiname'].unique())\n",
    "len(city_pop)"
   ]
  },
  {
   "cell_type": "markdown",
   "metadata": {},
   "source": [
    "#### Total Country Codes"
   ]
  },
  {
   "cell_type": "code",
   "execution_count": null,
   "metadata": {},
   "outputs": [],
   "source": [
    "country_pop = pd.Series(pop_df['country code'].unique())\n",
    "len(country_pop)"
   ]
  },
  {
   "cell_type": "markdown",
   "metadata": {},
   "source": [
    "## Find Common Cities"
   ]
  },
  {
   "cell_type": "markdown",
   "metadata": {},
   "source": [
    "### Cities in both population and Cost of X Sets"
   ]
  },
  {
   "cell_type": "code",
   "execution_count": null,
   "metadata": {},
   "outputs": [],
   "source": [
    "pop_costs = pd.Series(list(set(city_costs) & set(city_pop)))\n",
    "pop_costs"
   ]
  },
  {
   "cell_type": "markdown",
   "metadata": {},
   "source": [
    "### Cities in Cost Set but not Population - (Spelling differences, etc.)"
   ]
  },
  {
   "cell_type": "code",
   "execution_count": null,
   "metadata": {},
   "outputs": [],
   "source": [
    "cost_cities = pd.Series(list(set(city_costs) - set(city_pop)))\n",
    "cost_cities"
   ]
  },
  {
   "cell_type": "markdown",
   "metadata": {},
   "source": [
    "### Cities in Airbnb Dataset and Cost of X Sets"
   ]
  },
  {
   "cell_type": "code",
   "execution_count": null,
   "metadata": {},
   "outputs": [],
   "source": [
    "air_cost_list = pd.Series(list(set(airbnb_city) & set(city_costs)))\n",
    "len(air_cost_list)"
   ]
  },
  {
   "cell_type": "markdown",
   "metadata": {},
   "source": [
    "### Cities and Airbnb, Population, AND Cost of X Sets"
   ]
  },
  {
   "cell_type": "markdown",
   "metadata": {},
   "source": [
    "#### What cities can't we find a match for in the common dataset (of Pop and Cost of X)\n",
    "* Edinburgh is spelled Edinburg\n",
    "* Hawaii is a state, Barwon South West Vic - region/provinence\n",
    "* Visualisations?\n",
    "\n",
    "Gives us an idea of extent of data cleaning we would need to automate it\n"
   ]
  },
  {
   "cell_type": "code",
   "execution_count": null,
   "metadata": {},
   "outputs": [],
   "source": [
    "# Airbnb minus the intersection of found cities\n",
    "missing_cities = (set(airbnb_city)) - (set(airbnb_city) & set(pop_costs))\n",
    "missing_cities                        "
   ]
  },
  {
   "cell_type": "markdown",
   "metadata": {},
   "source": [
    "#### Cities Found in Airbnb AND Population AND Cost of X"
   ]
  },
  {
   "cell_type": "code",
   "execution_count": null,
   "metadata": {},
   "outputs": [],
   "source": [
    "air_pop_cost_list = sorted((list(set(airbnb_city) & set(pop_costs))))\n",
    "print(len(air_pop_cost_list))\n",
    "print(air_pop_cost_list)"
   ]
  },
  {
   "cell_type": "markdown",
   "metadata": {},
   "source": [
    "#### Total listings for All Cities in Airbnb, Population, and Cost of X Sets"
   ]
  },
  {
   "cell_type": "code",
   "execution_count": null,
   "metadata": {},
   "outputs": [],
   "source": [
    "global_cities = air_df.groupby(\"City\", as_index=False)[\"Room ID\"].count()\n",
    "global_city_listings = global_cities[global_cities['City'].isin(air_pop_cost_list)==True]\n",
    "pd.Series(global_city_listings['Room ID']).sum()"
   ]
  },
  {
   "cell_type": "markdown",
   "metadata": {},
   "source": [
    "#### US Cities in Airbnb and Population and Cost of X Sets"
   ]
  },
  {
   "cell_type": "code",
   "execution_count": null,
   "metadata": {},
   "outputs": [],
   "source": [
    "us_air_pop_cost = pd.Series(list(set(airbnb_us_cities) & set(pop_costs))).tolist()\n",
    "print(len(us_air_pop_cost))\n",
    "print(us_air_pop_cost)"
   ]
  },
  {
   "cell_type": "markdown",
   "metadata": {},
   "source": [
    "#### Total Listings for US Cities in Airbnb, Population, and Cost of X Sets"
   ]
  },
  {
   "cell_type": "code",
   "execution_count": null,
   "metadata": {},
   "outputs": [],
   "source": [
    "cities = air_df.groupby(\"City\", as_index=False)[\"Room ID\"].count()\n",
    "city_listings = cities[cities['City'].isin(us_air_pop_cost)==True]\n",
    "pd.Series(city_listings['Room ID']).sum()"
   ]
  },
  {
   "cell_type": "markdown",
   "metadata": {},
   "source": [
    "#### City Explorations"
   ]
  },
  {
   "cell_type": "code",
   "execution_count": null,
   "metadata": {},
   "outputs": [],
   "source": [
    "amst_df = pd.read_csv(\"../data/listings/Amsterdam_08June2020.csv\")\n",
    "amst_df"
   ]
  },
  {
   "cell_type": "code",
   "execution_count": null,
   "metadata": {},
   "outputs": [],
   "source": [
    "amst_df.room_type.unique()"
   ]
  },
  {
   "cell_type": "code",
   "execution_count": null,
   "metadata": {},
   "outputs": [],
   "source": [
    "city_costs_df"
   ]
  },
  {
   "cell_type": "code",
   "execution_count": null,
   "metadata": {},
   "outputs": [],
   "source": [
    "pop_df"
   ]
  },
  {
   "cell_type": "code",
   "execution_count": null,
   "metadata": {},
   "outputs": [],
   "source": [
    "x = pop_df['admin1 code'].unique()\n"
   ]
  },
  {
   "cell_type": "code",
   "execution_count": null,
   "metadata": {},
   "outputs": [],
   "source": []
  }
 ],
 "metadata": {
  "kernelspec": {
   "display_name": "Python 3",
   "language": "python",
   "name": "python3"
  },
  "language_info": {
   "codemirror_mode": {
    "name": "ipython",
    "version": 3
   },
   "file_extension": ".py",
   "mimetype": "text/x-python",
   "name": "python",
   "nbconvert_exporter": "python",
   "pygments_lexer": "ipython3",
   "version": "3.7.3"
  }
 },
 "nbformat": 4,
 "nbformat_minor": 2
}
