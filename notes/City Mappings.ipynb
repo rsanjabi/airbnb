{
 "cells": [
  {
   "cell_type": "code",
   "execution_count": 1,
   "metadata": {},
   "outputs": [],
   "source": [
    "import pandas as pd\n",
    "import re"
   ]
  },
  {
   "cell_type": "markdown",
   "metadata": {},
   "source": [
    "## Inside Airbnb Data"
   ]
  },
  {
   "cell_type": "code",
   "execution_count": 2,
   "metadata": {},
   "outputs": [
    {
     "data": {
      "text/html": [
       "<div>\n",
       "<style scoped>\n",
       "    .dataframe tbody tr th:only-of-type {\n",
       "        vertical-align: middle;\n",
       "    }\n",
       "\n",
       "    .dataframe tbody tr th {\n",
       "        vertical-align: top;\n",
       "    }\n",
       "\n",
       "    .dataframe thead th {\n",
       "        text-align: right;\n",
       "    }\n",
       "</style>\n",
       "<table border=\"1\" class=\"dataframe\">\n",
       "  <thead>\n",
       "    <tr style=\"text-align: right;\">\n",
       "      <th></th>\n",
       "      <th>Room ID</th>\n",
       "      <th>Name</th>\n",
       "      <th>Host ID</th>\n",
       "      <th>Neighbourhood</th>\n",
       "      <th>Room type</th>\n",
       "      <th>Room Price</th>\n",
       "      <th>Minimum nights</th>\n",
       "      <th>Number of reviews</th>\n",
       "      <th>Date last review</th>\n",
       "      <th>Number of reviews per month</th>\n",
       "      <th>Rooms rent by the host</th>\n",
       "      <th>Availibility</th>\n",
       "      <th>Updated Date</th>\n",
       "      <th>City</th>\n",
       "      <th>Country</th>\n",
       "      <th>Coordinates</th>\n",
       "      <th>Location</th>\n",
       "    </tr>\n",
       "  </thead>\n",
       "  <tbody>\n",
       "    <tr>\n",
       "      <th>0</th>\n",
       "      <td>25540031</td>\n",
       "      <td>Villa Giusè (rosa marina)</td>\n",
       "      <td>192701298</td>\n",
       "      <td>Ostuni</td>\n",
       "      <td>Entire home/apt</td>\n",
       "      <td>140</td>\n",
       "      <td>8</td>\n",
       "      <td>2</td>\n",
       "      <td>2019-03-22</td>\n",
       "      <td>0.1</td>\n",
       "      <td>1</td>\n",
       "      <td>318</td>\n",
       "      <td>2020-02-28</td>\n",
       "      <td>PUGLIA</td>\n",
       "      <td>Italy</td>\n",
       "      <td>40.7922335859,17.5537752385</td>\n",
       "      <td>Italy, Puglia, Ostuni</td>\n",
       "    </tr>\n",
       "    <tr>\n",
       "      <th>1</th>\n",
       "      <td>25558372</td>\n",
       "      <td>CASALE RIFORMA</td>\n",
       "      <td>192812326</td>\n",
       "      <td>Carovigno</td>\n",
       "      <td>Entire home/apt</td>\n",
       "      <td>80</td>\n",
       "      <td>7</td>\n",
       "      <td>0</td>\n",
       "      <td>NaN</td>\n",
       "      <td>NaN</td>\n",
       "      <td>2</td>\n",
       "      <td>365</td>\n",
       "      <td>2020-02-28</td>\n",
       "      <td>PUGLIA</td>\n",
       "      <td>Italy</td>\n",
       "      <td>40.6935039587,17.7587767393</td>\n",
       "      <td>Italy, Puglia, Carovigno</td>\n",
       "    </tr>\n",
       "    <tr>\n",
       "      <th>2</th>\n",
       "      <td>25563657</td>\n",
       "      <td>Appartamento nel Salento</td>\n",
       "      <td>90976022</td>\n",
       "      <td>Parabita</td>\n",
       "      <td>Entire home/apt</td>\n",
       "      <td>80</td>\n",
       "      <td>1</td>\n",
       "      <td>0</td>\n",
       "      <td>NaN</td>\n",
       "      <td>NaN</td>\n",
       "      <td>2</td>\n",
       "      <td>365</td>\n",
       "      <td>2020-02-28</td>\n",
       "      <td>PUGLIA</td>\n",
       "      <td>Italy</td>\n",
       "      <td>40.0533228907,18.1303956856</td>\n",
       "      <td>Italy, Puglia, Parabita</td>\n",
       "    </tr>\n",
       "    <tr>\n",
       "      <th>3</th>\n",
       "      <td>25575222</td>\n",
       "      <td>Brezza Marina - stanza privata climatizzata</td>\n",
       "      <td>17154685</td>\n",
       "      <td>Pulsano</td>\n",
       "      <td>Private room</td>\n",
       "      <td>48</td>\n",
       "      <td>4</td>\n",
       "      <td>0</td>\n",
       "      <td>NaN</td>\n",
       "      <td>NaN</td>\n",
       "      <td>2</td>\n",
       "      <td>0</td>\n",
       "      <td>2020-02-28</td>\n",
       "      <td>PUGLIA</td>\n",
       "      <td>Italy</td>\n",
       "      <td>40.3638944835,17.3491268808</td>\n",
       "      <td>Italy, Puglia, Pulsano</td>\n",
       "    </tr>\n",
       "    <tr>\n",
       "      <th>4</th>\n",
       "      <td>25652335</td>\n",
       "      <td>camera kappa vista porto con bagno in camera</td>\n",
       "      <td>193183493</td>\n",
       "      <td>Brindisi</td>\n",
       "      <td>Private room</td>\n",
       "      <td>49</td>\n",
       "      <td>1</td>\n",
       "      <td>0</td>\n",
       "      <td>NaN</td>\n",
       "      <td>NaN</td>\n",
       "      <td>1</td>\n",
       "      <td>215</td>\n",
       "      <td>2020-02-28</td>\n",
       "      <td>PUGLIA</td>\n",
       "      <td>Italy</td>\n",
       "      <td>40.6368142665,17.9478514701</td>\n",
       "      <td>Italy, Puglia, Brindisi</td>\n",
       "    </tr>\n",
       "  </tbody>\n",
       "</table>\n",
       "</div>"
      ],
      "text/plain": [
       "    Room ID                                          Name    Host ID  \\\n",
       "0  25540031                     Villa Giusè (rosa marina)  192701298   \n",
       "1  25558372                                CASALE RIFORMA  192812326   \n",
       "2  25563657                      Appartamento nel Salento   90976022   \n",
       "3  25575222   Brezza Marina - stanza privata climatizzata   17154685   \n",
       "4  25652335  camera kappa vista porto con bagno in camera  193183493   \n",
       "\n",
       "  Neighbourhood        Room type  Room Price  Minimum nights  \\\n",
       "0        Ostuni  Entire home/apt         140               8   \n",
       "1     Carovigno  Entire home/apt          80               7   \n",
       "2      Parabita  Entire home/apt          80               1   \n",
       "3       Pulsano     Private room          48               4   \n",
       "4      Brindisi     Private room          49               1   \n",
       "\n",
       "   Number of reviews Date last review  Number of reviews per month  \\\n",
       "0                  2       2019-03-22                          0.1   \n",
       "1                  0              NaN                          NaN   \n",
       "2                  0              NaN                          NaN   \n",
       "3                  0              NaN                          NaN   \n",
       "4                  0              NaN                          NaN   \n",
       "\n",
       "   Rooms rent by the host  Availibility Updated Date    City Country  \\\n",
       "0                       1           318   2020-02-28  PUGLIA   Italy   \n",
       "1                       2           365   2020-02-28  PUGLIA   Italy   \n",
       "2                       2           365   2020-02-28  PUGLIA   Italy   \n",
       "3                       2             0   2020-02-28  PUGLIA   Italy   \n",
       "4                       1           215   2020-02-28  PUGLIA   Italy   \n",
       "\n",
       "                   Coordinates                  Location  \n",
       "0  40.7922335859,17.5537752385     Italy, Puglia, Ostuni  \n",
       "1  40.6935039587,17.7587767393  Italy, Puglia, Carovigno  \n",
       "2  40.0533228907,18.1303956856   Italy, Puglia, Parabita  \n",
       "3  40.3638944835,17.3491268808    Italy, Puglia, Pulsano  \n",
       "4  40.6368142665,17.9478514701   Italy, Puglia, Brindisi  "
      ]
     },
     "execution_count": 2,
     "metadata": {},
     "output_type": "execute_result"
    }
   ],
   "source": [
    "air_df = pd.read_csv(\"../data/air-bnb-listings.csv\", sep=';')\n",
    "air_df['City'] = air_df['City'].str.replace('-', ' ')\n",
    "# Convert to uppercase for later matching\n",
    "air_df['City'] = air_df['City'].str.upper()\n",
    "# Strip 'City' from City names (e.g. NEW YORK not NEW YORK CITY)\n",
    "# But also converts JERSEY CITY to JERSEY\n",
    "air_df['City'] = air_df['City'].str.replace(' CITY', '')\n",
    "air_df['City'] = air_df['City'].str.replace(' COUNTY', '')\n",
    "air_df.head()"
   ]
  },
  {
   "cell_type": "markdown",
   "metadata": {},
   "source": [
    "#### Global"
   ]
  },
  {
   "cell_type": "code",
   "execution_count": 3,
   "metadata": {},
   "outputs": [
    {
     "data": {
      "text/plain": [
       "101"
      ]
     },
     "execution_count": 3,
     "metadata": {},
     "output_type": "execute_result"
    }
   ],
   "source": [
    "airbnb_city = pd.Series(air_df['City'].unique())\n",
    "len(airbnb_city)"
   ]
  },
  {
   "cell_type": "code",
   "execution_count": 4,
   "metadata": {},
   "outputs": [
    {
     "data": {
      "text/plain": [
       "30"
      ]
     },
     "execution_count": 4,
     "metadata": {},
     "output_type": "execute_result"
    }
   ],
   "source": [
    "airbnb_countries = pd.Series(air_df['Country'].unique())\n",
    "len(airbnb_countries)"
   ]
  },
  {
   "cell_type": "markdown",
   "metadata": {},
   "source": [
    "#### United States"
   ]
  },
  {
   "cell_type": "markdown",
   "metadata": {},
   "source": [
    "Notice that dataset still contains 'NV', 'OR, 'MSA', 'DC'"
   ]
  },
  {
   "cell_type": "code",
   "execution_count": 5,
   "metadata": {},
   "outputs": [
    {
     "data": {
      "text/plain": [
       "0           ASHEVILLE\n",
       "1              AUSTIN\n",
       "2              BOSTON\n",
       "3             BROWARD\n",
       "4           CAMBRIDGE\n",
       "5             CHICAGO\n",
       "6            CLARK NV\n",
       "7            COLUMBUS\n",
       "8              DENVER\n",
       "9              HAWAII\n",
       "10             JERSEY\n",
       "11        LOS ANGELES\n",
       "12          NASHVILLE\n",
       "13        NEW ORLEANS\n",
       "14           NEW YORK\n",
       "15            OAKLAND\n",
       "16      PACIFIC GROVE\n",
       "17           PORTLAND\n",
       "18       RHODE ISLAND\n",
       "19           SALEM OR\n",
       "20          SAN DIEGO\n",
       "21      SAN FRANCISCO\n",
       "22          SAN MATEO\n",
       "23        SANTA CLARA\n",
       "24         SANTA CRUZ\n",
       "25            SEATTLE\n",
       "26    TWIN CITIES MSA\n",
       "27      WASHINGTON DC\n",
       "dtype: object"
      ]
     },
     "execution_count": 5,
     "metadata": {},
     "output_type": "execute_result"
    }
   ],
   "source": [
    "air_us_cities = air_df[air_df['Country'].str.contains('United states')]\n",
    "airbnb_us_cities = pd.Series(sorted(air_us_cities['City'].unique()))\n",
    "airbnb_us_cities"
   ]
  },
  {
   "cell_type": "markdown",
   "metadata": {},
   "source": [
    "## Kaggle Cost of Living, etc. for Global Cities"
   ]
  },
  {
   "cell_type": "code",
   "execution_count": 6,
   "metadata": {},
   "outputs": [
    {
     "data": {
      "text/html": [
       "<div>\n",
       "<style scoped>\n",
       "    .dataframe tbody tr th:only-of-type {\n",
       "        vertical-align: middle;\n",
       "    }\n",
       "\n",
       "    .dataframe tbody tr th {\n",
       "        vertical-align: top;\n",
       "    }\n",
       "\n",
       "    .dataframe thead th {\n",
       "        text-align: right;\n",
       "    }\n",
       "</style>\n",
       "<table border=\"1\" class=\"dataframe\">\n",
       "  <thead>\n",
       "    <tr style=\"text-align: right;\">\n",
       "      <th></th>\n",
       "      <th>Rank</th>\n",
       "      <th>City_Country</th>\n",
       "      <th>Cost of Living Index</th>\n",
       "      <th>Rent Index</th>\n",
       "      <th>Cost of Living Plus Rent Index</th>\n",
       "      <th>Groceries Index</th>\n",
       "      <th>Restaurant Price Index</th>\n",
       "      <th>Local Purchasing Power Index</th>\n",
       "    </tr>\n",
       "  </thead>\n",
       "  <tbody>\n",
       "    <tr>\n",
       "      <th>0</th>\n",
       "      <td>1</td>\n",
       "      <td>Hamilton, Bermuda</td>\n",
       "      <td>137.56</td>\n",
       "      <td>103.03</td>\n",
       "      <td>121.21</td>\n",
       "      <td>126.56</td>\n",
       "      <td>151.77</td>\n",
       "      <td>114.19</td>\n",
       "    </tr>\n",
       "    <tr>\n",
       "      <th>1</th>\n",
       "      <td>2</td>\n",
       "      <td>Zurich, Switzerland</td>\n",
       "      <td>128.65</td>\n",
       "      <td>62.62</td>\n",
       "      <td>97.39</td>\n",
       "      <td>127.35</td>\n",
       "      <td>127.14</td>\n",
       "      <td>142.39</td>\n",
       "    </tr>\n",
       "    <tr>\n",
       "      <th>2</th>\n",
       "      <td>3</td>\n",
       "      <td>Basel, Switzerland</td>\n",
       "      <td>126.89</td>\n",
       "      <td>46.14</td>\n",
       "      <td>88.66</td>\n",
       "      <td>120.44</td>\n",
       "      <td>129.10</td>\n",
       "      <td>141.48</td>\n",
       "    </tr>\n",
       "    <tr>\n",
       "      <th>3</th>\n",
       "      <td>4</td>\n",
       "      <td>Lausanne, Switzerland</td>\n",
       "      <td>119.62</td>\n",
       "      <td>50.35</td>\n",
       "      <td>86.83</td>\n",
       "      <td>116.35</td>\n",
       "      <td>122.83</td>\n",
       "      <td>132.58</td>\n",
       "    </tr>\n",
       "    <tr>\n",
       "      <th>4</th>\n",
       "      <td>5</td>\n",
       "      <td>Bern, Switzerland</td>\n",
       "      <td>118.42</td>\n",
       "      <td>39.22</td>\n",
       "      <td>80.93</td>\n",
       "      <td>114.54</td>\n",
       "      <td>114.86</td>\n",
       "      <td>115.48</td>\n",
       "    </tr>\n",
       "    <tr>\n",
       "      <th>...</th>\n",
       "      <td>...</td>\n",
       "      <td>...</td>\n",
       "      <td>...</td>\n",
       "      <td>...</td>\n",
       "      <td>...</td>\n",
       "      <td>...</td>\n",
       "      <td>...</td>\n",
       "      <td>...</td>\n",
       "    </tr>\n",
       "    <tr>\n",
       "      <th>531</th>\n",
       "      <td>532</td>\n",
       "      <td>Vadodara, India</td>\n",
       "      <td>22.28</td>\n",
       "      <td>3.78</td>\n",
       "      <td>13.52</td>\n",
       "      <td>22.26</td>\n",
       "      <td>14.43</td>\n",
       "      <td>74.59</td>\n",
       "    </tr>\n",
       "    <tr>\n",
       "      <th>532</th>\n",
       "      <td>533</td>\n",
       "      <td>Kochi, India</td>\n",
       "      <td>21.73</td>\n",
       "      <td>5.45</td>\n",
       "      <td>14.02</td>\n",
       "      <td>21.93</td>\n",
       "      <td>12.20</td>\n",
       "      <td>73.42</td>\n",
       "    </tr>\n",
       "    <tr>\n",
       "      <th>533</th>\n",
       "      <td>534</td>\n",
       "      <td>Visakhapatnam, India</td>\n",
       "      <td>21.52</td>\n",
       "      <td>4.26</td>\n",
       "      <td>13.35</td>\n",
       "      <td>21.09</td>\n",
       "      <td>17.09</td>\n",
       "      <td>55.47</td>\n",
       "    </tr>\n",
       "    <tr>\n",
       "      <th>534</th>\n",
       "      <td>535</td>\n",
       "      <td>Navi Mumbai, India</td>\n",
       "      <td>19.30</td>\n",
       "      <td>4.70</td>\n",
       "      <td>12.39</td>\n",
       "      <td>19.21</td>\n",
       "      <td>12.55</td>\n",
       "      <td>138.06</td>\n",
       "    </tr>\n",
       "    <tr>\n",
       "      <th>535</th>\n",
       "      <td>536</td>\n",
       "      <td>Thiruvananthapuram, India</td>\n",
       "      <td>19.26</td>\n",
       "      <td>4.69</td>\n",
       "      <td>12.36</td>\n",
       "      <td>18.14</td>\n",
       "      <td>11.93</td>\n",
       "      <td>68.15</td>\n",
       "    </tr>\n",
       "  </tbody>\n",
       "</table>\n",
       "<p>536 rows × 8 columns</p>\n",
       "</div>"
      ],
      "text/plain": [
       "     Rank               City_Country  Cost of Living Index  Rent Index  \\\n",
       "0       1          Hamilton, Bermuda                137.56      103.03   \n",
       "1       2        Zurich, Switzerland                128.65       62.62   \n",
       "2       3         Basel, Switzerland                126.89       46.14   \n",
       "3       4      Lausanne, Switzerland                119.62       50.35   \n",
       "4       5          Bern, Switzerland                118.42       39.22   \n",
       "..    ...                        ...                   ...         ...   \n",
       "531   532            Vadodara, India                 22.28        3.78   \n",
       "532   533               Kochi, India                 21.73        5.45   \n",
       "533   534       Visakhapatnam, India                 21.52        4.26   \n",
       "534   535         Navi Mumbai, India                 19.30        4.70   \n",
       "535   536  Thiruvananthapuram, India                 19.26        4.69   \n",
       "\n",
       "     Cost of Living Plus Rent Index  Groceries Index  Restaurant Price Index  \\\n",
       "0                            121.21           126.56                  151.77   \n",
       "1                             97.39           127.35                  127.14   \n",
       "2                             88.66           120.44                  129.10   \n",
       "3                             86.83           116.35                  122.83   \n",
       "4                             80.93           114.54                  114.86   \n",
       "..                              ...              ...                     ...   \n",
       "531                           13.52            22.26                   14.43   \n",
       "532                           14.02            21.93                   12.20   \n",
       "533                           13.35            21.09                   17.09   \n",
       "534                           12.39            19.21                   12.55   \n",
       "535                           12.36            18.14                   11.93   \n",
       "\n",
       "     Local Purchasing Power Index  \n",
       "0                          114.19  \n",
       "1                          142.39  \n",
       "2                          141.48  \n",
       "3                          132.58  \n",
       "4                          115.48  \n",
       "..                            ...  \n",
       "531                         74.59  \n",
       "532                         73.42  \n",
       "533                         55.47  \n",
       "534                        138.06  \n",
       "535                         68.15  \n",
       "\n",
       "[536 rows x 8 columns]"
      ]
     },
     "execution_count": 6,
     "metadata": {},
     "output_type": "execute_result"
    }
   ],
   "source": [
    "costs_df = pd.read_csv(\"../data/Cost_of_living_index.csv\")\n",
    "costs_df.rename(columns = {'City':'City_Country'}, inplace = True)\n",
    "costs_df"
   ]
  },
  {
   "cell_type": "code",
   "execution_count": 7,
   "metadata": {},
   "outputs": [],
   "source": [
    "# Split City and Country\n",
    "cc_df = costs_df['City_Country'].apply(lambda x: pd.Series(x.split(',', 1)))\n",
    "\n",
    "# Remove State Abbreviations from US entries\n",
    "cc_df[1] = cc_df[1].apply(lambda x: pd.Series(re.sub(r'\\w*,\\s', '',x)))\n",
    "\n",
    "# Clean up Dataframe\n",
    "city_costs_df = pd.concat([cc_df, costs_df], axis=1)\n",
    "city_costs_df.rename(columns={0:'City',1:'Country'},inplace=True)\n",
    "\n",
    "# Convert to uppercase for later matching\n",
    "city_costs_df['City'] = city_costs_df['City'].str.upper()\n",
    "\n",
    "city_costs_df['City'] = city_costs_df['City'].str.replace(' CITY', '')\n",
    "city_costs_df['City'] = city_costs_df['City'].str.replace(' COUNTY', '')"
   ]
  },
  {
   "cell_type": "markdown",
   "metadata": {},
   "source": [
    "#### Number of Cities"
   ]
  },
  {
   "cell_type": "code",
   "execution_count": 8,
   "metadata": {},
   "outputs": [
    {
     "data": {
      "text/plain": [
       "526"
      ]
     },
     "execution_count": 8,
     "metadata": {},
     "output_type": "execute_result"
    }
   ],
   "source": [
    "city_costs = pd.Series(city_costs_df['City'].unique())\n",
    "len(city_costs)"
   ]
  },
  {
   "cell_type": "markdown",
   "metadata": {},
   "source": [
    "#### Number of Countries"
   ]
  },
  {
   "cell_type": "code",
   "execution_count": 9,
   "metadata": {},
   "outputs": [
    {
     "data": {
      "text/plain": [
       "115"
      ]
     },
     "execution_count": 9,
     "metadata": {},
     "output_type": "execute_result"
    }
   ],
   "source": [
    "country_costs = pd.Series(city_costs_df['Country'].unique())\n",
    "len(country_costs)"
   ]
  },
  {
   "cell_type": "markdown",
   "metadata": {},
   "source": [
    "## Kaggle Population for Global Cities"
   ]
  },
  {
   "cell_type": "code",
   "execution_count": 10,
   "metadata": {},
   "outputs": [
    {
     "data": {
      "text/html": [
       "<div>\n",
       "<style scoped>\n",
       "    .dataframe tbody tr th:only-of-type {\n",
       "        vertical-align: middle;\n",
       "    }\n",
       "\n",
       "    .dataframe tbody tr th {\n",
       "        vertical-align: top;\n",
       "    }\n",
       "\n",
       "    .dataframe thead th {\n",
       "        text-align: right;\n",
       "    }\n",
       "</style>\n",
       "<table border=\"1\" class=\"dataframe\">\n",
       "  <thead>\n",
       "    <tr style=\"text-align: right;\">\n",
       "      <th></th>\n",
       "      <th>geonameid</th>\n",
       "      <th>name</th>\n",
       "      <th>asciiname</th>\n",
       "      <th>alternatenames</th>\n",
       "      <th>latitude</th>\n",
       "      <th>longitude</th>\n",
       "      <th>feature class</th>\n",
       "      <th>feature code</th>\n",
       "      <th>country code</th>\n",
       "      <th>cc2</th>\n",
       "      <th>admin1 code</th>\n",
       "      <th>admin2 code</th>\n",
       "      <th>admin3 code</th>\n",
       "      <th>admin4 code</th>\n",
       "      <th>population</th>\n",
       "      <th>elevation</th>\n",
       "      <th>dem</th>\n",
       "      <th>timezone</th>\n",
       "      <th>modification date</th>\n",
       "    </tr>\n",
       "  </thead>\n",
       "  <tbody>\n",
       "    <tr>\n",
       "      <th>0</th>\n",
       "      <td>3040051</td>\n",
       "      <td>les Escaldes</td>\n",
       "      <td>LES ESCALDES</td>\n",
       "      <td>Ehskal'des-Ehndzhordani,Escaldes,Escaldes-Engo...</td>\n",
       "      <td>42.50729</td>\n",
       "      <td>1.53414</td>\n",
       "      <td>P</td>\n",
       "      <td>PPLA</td>\n",
       "      <td>AD</td>\n",
       "      <td>NaN</td>\n",
       "      <td>8</td>\n",
       "      <td>NaN</td>\n",
       "      <td>NaN</td>\n",
       "      <td>NaN</td>\n",
       "      <td>15853</td>\n",
       "      <td>NaN</td>\n",
       "      <td>1033.0</td>\n",
       "      <td>Europe/Andorra</td>\n",
       "      <td>10/15/08</td>\n",
       "    </tr>\n",
       "    <tr>\n",
       "      <th>1</th>\n",
       "      <td>3041563</td>\n",
       "      <td>Andorra la Vella</td>\n",
       "      <td>ANDORRA LA VELLA</td>\n",
       "      <td>ALV,Ando-la-Vyey,Andora,Andora la Vela,Andora ...</td>\n",
       "      <td>42.50779</td>\n",
       "      <td>1.52109</td>\n",
       "      <td>P</td>\n",
       "      <td>PPLC</td>\n",
       "      <td>AD</td>\n",
       "      <td>NaN</td>\n",
       "      <td>7</td>\n",
       "      <td>NaN</td>\n",
       "      <td>NaN</td>\n",
       "      <td>NaN</td>\n",
       "      <td>20430</td>\n",
       "      <td>NaN</td>\n",
       "      <td>1037.0</td>\n",
       "      <td>Europe/Andorra</td>\n",
       "      <td>5/30/10</td>\n",
       "    </tr>\n",
       "    <tr>\n",
       "      <th>2</th>\n",
       "      <td>290594</td>\n",
       "      <td>Umm al Qaywayn</td>\n",
       "      <td>UMM AL QAYWAYN</td>\n",
       "      <td>Oumm al Qaiwain,Oumm al QaÌøwaÌøn,Um al Kawain...</td>\n",
       "      <td>25.56473</td>\n",
       "      <td>55.55517</td>\n",
       "      <td>P</td>\n",
       "      <td>PPLA</td>\n",
       "      <td>AE</td>\n",
       "      <td>NaN</td>\n",
       "      <td>7</td>\n",
       "      <td>NaN</td>\n",
       "      <td>NaN</td>\n",
       "      <td>NaN</td>\n",
       "      <td>44411</td>\n",
       "      <td>NaN</td>\n",
       "      <td>2.0</td>\n",
       "      <td>Asia/Dubai</td>\n",
       "      <td>10/7/14</td>\n",
       "    </tr>\n",
       "    <tr>\n",
       "      <th>3</th>\n",
       "      <td>291074</td>\n",
       "      <td>Ras al-Khaimah</td>\n",
       "      <td>RAS AL-KHAIMAH</td>\n",
       "      <td>Julfa,Khaimah,RKT,Ra's al Khaymah,Ra's al-Chai...</td>\n",
       "      <td>25.78953</td>\n",
       "      <td>55.9432</td>\n",
       "      <td>P</td>\n",
       "      <td>PPLA</td>\n",
       "      <td>AE</td>\n",
       "      <td>NaN</td>\n",
       "      <td>5</td>\n",
       "      <td>NaN</td>\n",
       "      <td>NaN</td>\n",
       "      <td>NaN</td>\n",
       "      <td>115949</td>\n",
       "      <td>NaN</td>\n",
       "      <td>2.0</td>\n",
       "      <td>Asia/Dubai</td>\n",
       "      <td>12/5/15</td>\n",
       "    </tr>\n",
       "    <tr>\n",
       "      <th>4</th>\n",
       "      <td>291696</td>\n",
       "      <td>Khawr Fakkn</td>\n",
       "      <td>KHAWR FAKKAN</td>\n",
       "      <td>Fakkan,Fakkn,Khawr Fakkan,Khawr Fakkn,Khaw...</td>\n",
       "      <td>25.33132</td>\n",
       "      <td>56.34199</td>\n",
       "      <td>P</td>\n",
       "      <td>PPL</td>\n",
       "      <td>AE</td>\n",
       "      <td>NaN</td>\n",
       "      <td>6</td>\n",
       "      <td>NaN</td>\n",
       "      <td>NaN</td>\n",
       "      <td>NaN</td>\n",
       "      <td>33575</td>\n",
       "      <td>NaN</td>\n",
       "      <td>20.0</td>\n",
       "      <td>Asia/Dubai</td>\n",
       "      <td>10/25/13</td>\n",
       "    </tr>\n",
       "  </tbody>\n",
       "</table>\n",
       "</div>"
      ],
      "text/plain": [
       "  geonameid              name         asciiname  \\\n",
       "0   3040051      les Escaldes      LES ESCALDES   \n",
       "1   3041563  Andorra la Vella  ANDORRA LA VELLA   \n",
       "2    290594    Umm al Qaywayn    UMM AL QAYWAYN   \n",
       "3    291074    Ras al-Khaimah    RAS AL-KHAIMAH   \n",
       "4    291696     Khawr Fakkn      KHAWR FAKKAN   \n",
       "\n",
       "                                      alternatenames  latitude longitude  \\\n",
       "0  Ehskal'des-Ehndzhordani,Escaldes,Escaldes-Engo...  42.50729   1.53414   \n",
       "1  ALV,Ando-la-Vyey,Andora,Andora la Vela,Andora ...  42.50779   1.52109   \n",
       "2  Oumm al Qaiwain,Oumm al QaÌøwaÌøn,Um al Kawain...  25.56473  55.55517   \n",
       "3  Julfa,Khaimah,RKT,Ra's al Khaymah,Ra's al-Chai...  25.78953   55.9432   \n",
       "4  Fakkan,Fakkn,Khawr Fakkan,Khawr Fakkn,Khaw...  25.33132  56.34199   \n",
       "\n",
       "  feature class feature code country code  cc2 admin1 code admin2 code  \\\n",
       "0             P         PPLA           AD  NaN           8         NaN   \n",
       "1             P         PPLC           AD  NaN           7         NaN   \n",
       "2             P         PPLA           AE  NaN           7         NaN   \n",
       "3             P         PPLA           AE  NaN           5         NaN   \n",
       "4             P          PPL           AE  NaN           6         NaN   \n",
       "\n",
       "  admin3 code admin4 code population elevation     dem        timezone  \\\n",
       "0         NaN         NaN      15853       NaN  1033.0  Europe/Andorra   \n",
       "1         NaN         NaN      20430       NaN  1037.0  Europe/Andorra   \n",
       "2         NaN         NaN      44411       NaN     2.0      Asia/Dubai   \n",
       "3         NaN         NaN     115949       NaN     2.0      Asia/Dubai   \n",
       "4         NaN         NaN      33575       NaN    20.0      Asia/Dubai   \n",
       "\n",
       "  modification date  \n",
       "0          10/15/08  \n",
       "1           5/30/10  \n",
       "2           10/7/14  \n",
       "3           12/5/15  \n",
       "4          10/25/13  "
      ]
     },
     "execution_count": 10,
     "metadata": {},
     "output_type": "execute_result"
    }
   ],
   "source": [
    "pop_df = pd.read_csv('../data/cities15000.csv', encoding = \"ISO-8859-1\")\n",
    "# Convert to uppercase for later matching\n",
    "pop_df['asciiname'] = pop_df['asciiname'].str.upper()\n",
    "\n",
    "pop_df['asciiname'] = pop_df['asciiname'].str.replace(' CITY', '')\n",
    "pop_df['asciiname'] = pop_df['asciiname'].str.replace(' COUNTY', '')\n",
    "\n",
    "pop_df.head()"
   ]
  },
  {
   "cell_type": "markdown",
   "metadata": {},
   "source": [
    "#### Total Cities"
   ]
  },
  {
   "cell_type": "code",
   "execution_count": 11,
   "metadata": {},
   "outputs": [
    {
     "data": {
      "text/plain": [
       "22229"
      ]
     },
     "execution_count": 11,
     "metadata": {},
     "output_type": "execute_result"
    }
   ],
   "source": [
    "city_pop = pd.Series(pop_df['asciiname'].unique())\n",
    "len(city_pop)"
   ]
  },
  {
   "cell_type": "markdown",
   "metadata": {},
   "source": [
    "#### Total Country Codes"
   ]
  },
  {
   "cell_type": "code",
   "execution_count": 12,
   "metadata": {},
   "outputs": [
    {
     "data": {
      "text/plain": [
       "245"
      ]
     },
     "execution_count": 12,
     "metadata": {},
     "output_type": "execute_result"
    }
   ],
   "source": [
    "country_pop = pd.Series(pop_df['country code'].unique())\n",
    "len(country_pop)"
   ]
  },
  {
   "cell_type": "markdown",
   "metadata": {},
   "source": [
    "## Find Common Cities"
   ]
  },
  {
   "cell_type": "markdown",
   "metadata": {},
   "source": [
    "### Cities in both population and Cost of X Sets"
   ]
  },
  {
   "cell_type": "code",
   "execution_count": 13,
   "metadata": {},
   "outputs": [
    {
     "data": {
      "text/plain": [
       "0      INDIANAPOLIS\n",
       "1           PALERMO\n",
       "2            CANCUN\n",
       "3      JACKSONVILLE\n",
       "4           CARDIFF\n",
       "           ...     \n",
       "487      PITTSBURGH\n",
       "488            PUNE\n",
       "489            MALE\n",
       "490          KANSAS\n",
       "491       SAO PAULO\n",
       "Length: 492, dtype: object"
      ]
     },
     "execution_count": 13,
     "metadata": {},
     "output_type": "execute_result"
    }
   ],
   "source": [
    "pop_costs = pd.Series(list(set(city_costs) & set(city_pop)))\n",
    "pop_costs"
   ]
  },
  {
   "cell_type": "markdown",
   "metadata": {},
   "source": [
    "### Cities in Cost Set but not Population - (Spelling differences, etc.)"
   ]
  },
  {
   "cell_type": "code",
   "execution_count": 14,
   "metadata": {},
   "outputs": [
    {
     "data": {
      "text/plain": [
       "0     ZARAGOZA (SARAGOSSA)\n",
       "1                    MALMO\n",
       "2        PALMA DE MALLORCA\n",
       "3                  COLOGNE\n",
       "4                BANGALORE\n",
       "5                NUREMBERG\n",
       "6          JEDDAH (JIDDAH)\n",
       "7                   EXETER\n",
       "8               GOTHENBURG\n",
       "9                 SELANGOR\n",
       "10                    KIEV\n",
       "11           TEL AVIV-YAFO\n",
       "12               FRANKFURT\n",
       "13                  GALWAY\n",
       "14                 ANTWERP\n",
       "15               EDINBURGH\n",
       "16                  SLIEMA\n",
       "17                 SWINDON\n",
       "18                 GLASGOW\n",
       "19         KRAKOW (CRACOW)\n",
       "20         NIZHNY NOVGOROD\n",
       "21               AL KHOBAR\n",
       "22    THE HAGUE (DEN HAAG)\n",
       "23                  PENANG\n",
       "24             SAINT LOUIS\n",
       "25       SEVILLE (SEVILLA)\n",
       "26                 PATTAYA\n",
       "27               AD DAMMAM\n",
       "28               QUERETARO\n",
       "29             BHUBANESWAR\n",
       "30              DUSSELDORF\n",
       "31       LUCKNOW (LAKHNAU)\n",
       "32             ULAANBAATAR\n",
       "33                   IRBIL\n",
       "dtype: object"
      ]
     },
     "execution_count": 14,
     "metadata": {},
     "output_type": "execute_result"
    }
   ],
   "source": [
    "cost_cities = pd.Series(list(set(city_costs) - set(city_pop)))\n",
    "cost_cities"
   ]
  },
  {
   "cell_type": "markdown",
   "metadata": {},
   "source": [
    "### Cities in Airbnb Dataset and Cost of X Sets"
   ]
  },
  {
   "cell_type": "code",
   "execution_count": 15,
   "metadata": {},
   "outputs": [
    {
     "data": {
      "text/plain": [
       "67"
      ]
     },
     "execution_count": 15,
     "metadata": {},
     "output_type": "execute_result"
    }
   ],
   "source": [
    "air_cost_list = pd.Series(list(set(airbnb_city) & set(city_costs)))\n",
    "len(air_cost_list)"
   ]
  },
  {
   "cell_type": "markdown",
   "metadata": {},
   "source": [
    "### Cities and Airbnb, Population, AND Cost of X Sets"
   ]
  },
  {
   "cell_type": "markdown",
   "metadata": {},
   "source": [
    "#### What cities can't we find a match for in the common dataset (of Pop and Cost of X)\n",
    "* Edinburgh is spelled Edinburg\n",
    "* Hawaii is a state, Barwon South West Vic - region/provinence\n",
    "* Visualisations?\n",
    "\n",
    "Gives us an idea of extent of data cleaning we would need to automate it\n"
   ]
  },
  {
   "cell_type": "code",
   "execution_count": 16,
   "metadata": {},
   "outputs": [
    {
     "data": {
      "text/plain": [
       "{'ANTWERP',\n",
       " 'BAROSSA VALLEY',\n",
       " 'BARWON SOUTH WEST VIC',\n",
       " 'BELIZE',\n",
       " 'BERGAMO',\n",
       " 'BROWARD',\n",
       " 'CLARK NV',\n",
       " 'CRETE',\n",
       " 'EDINBURGH',\n",
       " 'EUSKADI',\n",
       " 'GHENT',\n",
       " 'GIRONA',\n",
       " 'GREATER MANCHESTER',\n",
       " 'HAWAII',\n",
       " 'MALLORCA',\n",
       " 'MENORCA',\n",
       " 'NEW BRUNSWICK',\n",
       " 'NORTHERN RIVERS',\n",
       " 'PACIFIC GROVE',\n",
       " 'PUGLIA',\n",
       " 'RHODE ISLAND',\n",
       " 'SALEM OR',\n",
       " 'SAN MATEO',\n",
       " 'SANTA CLARA',\n",
       " 'SANTA CRUZ',\n",
       " 'SEVILLA',\n",
       " 'SICILY',\n",
       " 'SOUTH AEGEAN',\n",
       " 'TASMANIA',\n",
       " 'TRENTINO',\n",
       " 'TWIN CITIES MSA',\n",
       " 'VAUD',\n",
       " 'VENICE',\n",
       " 'VISUALISATIONS',\n",
       " 'WASHINGTON DC',\n",
       " 'WESTERN AUSTRALIA'}"
      ]
     },
     "execution_count": 16,
     "metadata": {},
     "output_type": "execute_result"
    }
   ],
   "source": [
    "# Airbnb minus the intersection of found cities\n",
    "missing_cities = (set(airbnb_city)) - (set(airbnb_city) & set(pop_costs))\n",
    "missing_cities                        "
   ]
  },
  {
   "cell_type": "markdown",
   "metadata": {},
   "source": [
    "#### Cities Found in Airbnb AND Population AND Cost of X"
   ]
  },
  {
   "cell_type": "code",
   "execution_count": 17,
   "metadata": {},
   "outputs": [
    {
     "name": "stdout",
     "output_type": "stream",
     "text": [
      "65\n",
      "['AMSTERDAM', 'ASHEVILLE', 'ATHENS', 'AUSTIN', 'BARCELONA', 'BEIJING', 'BERLIN', 'BOLOGNA', 'BORDEAUX', 'BOSTON', 'BRISTOL', 'BRUSSELS', 'BUENOS AIRES', 'CAMBRIDGE', 'CAPE TOWN', 'CHICAGO', 'COLUMBUS', 'COPENHAGEN', 'DENVER', 'DUBLIN', 'FLORENCE', 'GENEVA', 'HONG KONG', 'ISTANBUL', 'JERSEY', 'LISBON', 'LONDON', 'LOS ANGELES', 'LYON', 'MADRID', 'MALAGA', 'MELBOURNE', 'MEXICO', 'MILAN', 'MONTREAL', 'MUNICH', 'NAPLES', 'NASHVILLE', 'NEW ORLEANS', 'NEW YORK', 'OAKLAND', 'OSLO', 'OTTAWA', 'PARIS', 'PORTLAND', 'PORTO', 'PRAGUE', 'QUEBEC', 'RIO DE JANEIRO', 'ROME', 'SAN DIEGO', 'SAN FRANCISCO', 'SANTIAGO', 'SEATTLE', 'SINGAPORE', 'STOCKHOLM', 'SYDNEY', 'TAIPEI', 'THESSALONIKI', 'TOKYO', 'TORONTO', 'VALENCIA', 'VANCOUVER', 'VICTORIA', 'VIENNA']\n"
     ]
    }
   ],
   "source": [
    "air_pop_cost_list = sorted((list(set(airbnb_city) & set(pop_costs))))\n",
    "print(len(air_pop_cost_list))\n",
    "print(air_pop_cost_list)"
   ]
  },
  {
   "cell_type": "markdown",
   "metadata": {},
   "source": [
    "#### Total listings for All Cities in Airbnb, Population, and Cost of X Sets"
   ]
  },
  {
   "cell_type": "code",
   "execution_count": 18,
   "metadata": {},
   "outputs": [
    {
     "data": {
      "text/plain": [
       "1051854"
      ]
     },
     "execution_count": 18,
     "metadata": {},
     "output_type": "execute_result"
    }
   ],
   "source": [
    "global_cities = air_df.groupby(\"City\", as_index=False)[\"Room ID\"].count()\n",
    "global_city_listings = global_cities[global_cities['City'].isin(air_pop_cost_list)==True]\n",
    "pd.Series(global_city_listings['Room ID']).sum()"
   ]
  },
  {
   "cell_type": "markdown",
   "metadata": {},
   "source": [
    "#### US Cities in Airbnb and Population and Cost of X Sets"
   ]
  },
  {
   "cell_type": "code",
   "execution_count": 22,
   "metadata": {},
   "outputs": [
    {
     "name": "stdout",
     "output_type": "stream",
     "text": [
      "17\n",
      "['COLUMBUS', 'CHICAGO', 'PORTLAND', 'SAN FRANCISCO', 'NASHVILLE', 'DENVER', 'OAKLAND', 'AUSTIN', 'NEW ORLEANS', 'ASHEVILLE', 'LOS ANGELES', 'JERSEY', 'CAMBRIDGE', 'SAN DIEGO', 'SEATTLE', 'BOSTON', 'NEW YORK']\n"
     ]
    }
   ],
   "source": [
    "us_air_pop_cost = pd.Series(list(set(airbnb_us_cities) & set(pop_costs))).tolist()\n",
    "print(len(us_air_pop_cost))\n",
    "print(us_air_pop_cost)"
   ]
  },
  {
   "cell_type": "markdown",
   "metadata": {},
   "source": [
    "#### Total Listings for US Cities in Airbnb, Population, and Cost of X Sets"
   ]
  },
  {
   "cell_type": "code",
   "execution_count": 20,
   "metadata": {},
   "outputs": [
    {
     "data": {
      "text/plain": [
       "179834"
      ]
     },
     "execution_count": 20,
     "metadata": {},
     "output_type": "execute_result"
    }
   ],
   "source": [
    "cities = air_df.groupby(\"City\", as_index=False)[\"Room ID\"].count()\n",
    "city_listings = cities[cities['City'].isin(us_air_pop_cost)==True]\n",
    "pd.Series(city_listings['Room ID']).sum()"
   ]
  }
 ],
 "metadata": {
  "kernelspec": {
   "display_name": "Python 3",
   "language": "python",
   "name": "python3"
  },
  "language_info": {
   "codemirror_mode": {
    "name": "ipython",
    "version": 3
   },
   "file_extension": ".py",
   "mimetype": "text/x-python",
   "name": "python",
   "nbconvert_exporter": "python",
   "pygments_lexer": "ipython3",
   "version": "3.7.3"
  }
 },
 "nbformat": 4,
 "nbformat_minor": 2
}
